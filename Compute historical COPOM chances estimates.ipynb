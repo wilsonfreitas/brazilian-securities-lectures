{
 "cells": [
  {
   "cell_type": "code",
   "execution_count": 2,
   "id": "intensive-actress",
   "metadata": {},
   "outputs": [],
   "source": [
    "import datetime\n",
    "import pandas as pd\n",
    "import numpy as np\n",
    "import matplotlib.pyplot as plt\n",
    "\n",
    "from bcb import currency, sgs\n",
    "import bizdays\n",
    "\n",
    "import myfuncs as my"
   ]
  },
  {
   "cell_type": "code",
   "execution_count": 3,
   "id": "saving-performance",
   "metadata": {},
   "outputs": [],
   "source": [
    "MARKET_CALENDAR = bizdays.Calendar.load('ANBIMA.cal')"
   ]
  },
  {
   "cell_type": "code",
   "execution_count": 38,
   "id": "waiting-runner",
   "metadata": {},
   "outputs": [],
   "source": [
    "ds_contrs = [my.get_contracts(dt) for dt in MARKET_CALENDAR.seq('2021-09-01', '2021-11-01')]"
   ]
  },
  {
   "cell_type": "code",
   "execution_count": 39,
   "id": "renewable-fortune",
   "metadata": {},
   "outputs": [],
   "source": [
    "ds_contrs = pd.concat(ds_contrs, axis=0)"
   ]
  },
  {
   "cell_type": "code",
   "execution_count": 40,
   "id": "political-ranch",
   "metadata": {},
   "outputs": [
    {
     "data": {
      "text/html": [
       "<div>\n",
       "<style scoped>\n",
       "    .dataframe tbody tr th:only-of-type {\n",
       "        vertical-align: middle;\n",
       "    }\n",
       "\n",
       "    .dataframe tbody tr th {\n",
       "        vertical-align: top;\n",
       "    }\n",
       "\n",
       "    .dataframe thead th {\n",
       "        text-align: right;\n",
       "    }\n",
       "</style>\n",
       "<table border=\"1\" class=\"dataframe\">\n",
       "  <thead>\n",
       "    <tr style=\"text-align: right;\">\n",
       "      <th></th>\n",
       "      <th>DataRef</th>\n",
       "      <th>Mercadoria</th>\n",
       "      <th>CDVencimento</th>\n",
       "      <th>PUAnterior</th>\n",
       "      <th>PUAtual</th>\n",
       "      <th>Variacao</th>\n",
       "      <th>Vencimento</th>\n",
       "    </tr>\n",
       "  </thead>\n",
       "  <tbody>\n",
       "    <tr>\n",
       "      <th>0</th>\n",
       "      <td>2021-09-01</td>\n",
       "      <td>AFS</td>\n",
       "      <td>U21</td>\n",
       "      <td>14465.000</td>\n",
       "      <td>14465.000</td>\n",
       "      <td>0.000</td>\n",
       "      <td>2021-09-01</td>\n",
       "    </tr>\n",
       "    <tr>\n",
       "      <th>1</th>\n",
       "      <td>2021-09-01</td>\n",
       "      <td>AFS</td>\n",
       "      <td>V21</td>\n",
       "      <td>14578.900</td>\n",
       "      <td>14460.500</td>\n",
       "      <td>-118.400</td>\n",
       "      <td>2021-10-01</td>\n",
       "    </tr>\n",
       "    <tr>\n",
       "      <th>2</th>\n",
       "      <td>2021-09-01</td>\n",
       "      <td>AFS</td>\n",
       "      <td>X21</td>\n",
       "      <td>14631.200</td>\n",
       "      <td>14516.600</td>\n",
       "      <td>-114.600</td>\n",
       "      <td>2021-11-01</td>\n",
       "    </tr>\n",
       "    <tr>\n",
       "      <th>3</th>\n",
       "      <td>2021-09-01</td>\n",
       "      <td>AFS</td>\n",
       "      <td>Z21</td>\n",
       "      <td>14692.500</td>\n",
       "      <td>14575.200</td>\n",
       "      <td>-117.300</td>\n",
       "      <td>2021-12-01</td>\n",
       "    </tr>\n",
       "    <tr>\n",
       "      <th>4</th>\n",
       "      <td>2021-09-01</td>\n",
       "      <td>AFS</td>\n",
       "      <td>F22</td>\n",
       "      <td>14755.900</td>\n",
       "      <td>14636.900</td>\n",
       "      <td>-119.000</td>\n",
       "      <td>2022-01-01</td>\n",
       "    </tr>\n",
       "    <tr>\n",
       "      <th>...</th>\n",
       "      <td>...</td>\n",
       "      <td>...</td>\n",
       "      <td>...</td>\n",
       "      <td>...</td>\n",
       "      <td>...</td>\n",
       "      <td>...</td>\n",
       "      <td>...</td>\n",
       "    </tr>\n",
       "    <tr>\n",
       "      <th>565</th>\n",
       "      <td>2021-11-01</td>\n",
       "      <td>ZAR</td>\n",
       "      <td>Z21</td>\n",
       "      <td>3674.737</td>\n",
       "      <td>3676.744</td>\n",
       "      <td>2.007</td>\n",
       "      <td>2021-12-01</td>\n",
       "    </tr>\n",
       "    <tr>\n",
       "      <th>566</th>\n",
       "      <td>2021-11-01</td>\n",
       "      <td>ZAR</td>\n",
       "      <td>F22</td>\n",
       "      <td>3684.471</td>\n",
       "      <td>3687.018</td>\n",
       "      <td>2.547</td>\n",
       "      <td>2022-01-01</td>\n",
       "    </tr>\n",
       "    <tr>\n",
       "      <th>567</th>\n",
       "      <td>2021-11-01</td>\n",
       "      <td>ZAR</td>\n",
       "      <td>G22</td>\n",
       "      <td>3696.898</td>\n",
       "      <td>3698.199</td>\n",
       "      <td>1.301</td>\n",
       "      <td>2022-02-01</td>\n",
       "    </tr>\n",
       "    <tr>\n",
       "      <th>568</th>\n",
       "      <td>2021-11-01</td>\n",
       "      <td>ZAR</td>\n",
       "      <td>H22</td>\n",
       "      <td>3713.061</td>\n",
       "      <td>3713.278</td>\n",
       "      <td>0.217</td>\n",
       "      <td>2022-03-01</td>\n",
       "    </tr>\n",
       "    <tr>\n",
       "      <th>569</th>\n",
       "      <td>2021-11-01</td>\n",
       "      <td>ZAR</td>\n",
       "      <td>J22</td>\n",
       "      <td>3730.215</td>\n",
       "      <td>3733.128</td>\n",
       "      <td>2.913</td>\n",
       "      <td>2022-04-01</td>\n",
       "    </tr>\n",
       "  </tbody>\n",
       "</table>\n",
       "<p>22804 rows × 7 columns</p>\n",
       "</div>"
      ],
      "text/plain": [
       "        DataRef Mercadoria CDVencimento  PUAnterior    PUAtual  Variacao  \\\n",
       "0    2021-09-01        AFS          U21   14465.000  14465.000     0.000   \n",
       "1    2021-09-01        AFS          V21   14578.900  14460.500  -118.400   \n",
       "2    2021-09-01        AFS          X21   14631.200  14516.600  -114.600   \n",
       "3    2021-09-01        AFS          Z21   14692.500  14575.200  -117.300   \n",
       "4    2021-09-01        AFS          F22   14755.900  14636.900  -119.000   \n",
       "..          ...        ...          ...         ...        ...       ...   \n",
       "565  2021-11-01        ZAR          Z21    3674.737   3676.744     2.007   \n",
       "566  2021-11-01        ZAR          F22    3684.471   3687.018     2.547   \n",
       "567  2021-11-01        ZAR          G22    3696.898   3698.199     1.301   \n",
       "568  2021-11-01        ZAR          H22    3713.061   3713.278     0.217   \n",
       "569  2021-11-01        ZAR          J22    3730.215   3733.128     2.913   \n",
       "\n",
       "    Vencimento  \n",
       "0   2021-09-01  \n",
       "1   2021-10-01  \n",
       "2   2021-11-01  \n",
       "3   2021-12-01  \n",
       "4   2022-01-01  \n",
       "..         ...  \n",
       "565 2021-12-01  \n",
       "566 2022-01-01  \n",
       "567 2022-02-01  \n",
       "568 2022-03-01  \n",
       "569 2022-04-01  \n",
       "\n",
       "[22804 rows x 7 columns]"
      ]
     },
     "execution_count": 40,
     "metadata": {},
     "output_type": "execute_result"
    }
   ],
   "source": [
    "ds_contrs"
   ]
  },
  {
   "cell_type": "code",
   "execution_count": 41,
   "id": "possible-sacramento",
   "metadata": {},
   "outputs": [],
   "source": [
    "ds_contrs.to_parquet('contracts_202109_202111.parquet')"
   ]
  },
  {
   "cell_type": "code",
   "execution_count": 75,
   "id": "adult-lebanon",
   "metadata": {},
   "outputs": [],
   "source": [
    "ds_DI1_contrs = ds_contrs[(ds_contrs['Mercadoria'] == 'DI1') &\n",
    "                          (ds_contrs['CDVencimento'].isin(('V21', 'X21'))) & \n",
    "                          (ds_contrs['PUAtual'] != 100000)]"
   ]
  },
  {
   "cell_type": "code",
   "execution_count": 76,
   "id": "flying-telescope",
   "metadata": {},
   "outputs": [],
   "source": [
    "cal = bizdays.Calendar.load('ANBIMA.cal')\n",
    "df = ds_DI1_contrs.copy()\n",
    "df['Maturity'] = df['Vencimento'].map(cal.following)\n",
    "df['DU'] = df.apply(lambda x: cal.bizdays(x['DataRef'], x['Maturity']), axis=1)\n",
    "df['Rate'] = (100000 / df['PUAtual'])**(252 / df['DU']) - 1\n",
    "df['DataRef'] = pd.to_datetime(df['DataRef'])"
   ]
  },
  {
   "cell_type": "code",
   "execution_count": 77,
   "id": "chicken-competition",
   "metadata": {},
   "outputs": [],
   "source": [
    "# df[df['DataRef'] <= '2021-09-22', 'NextMeeting']\n",
    "df.loc[df['DataRef'] <= '2021-09-22', 'NextMeeting'] = pd.to_datetime('2021-09-22')\n",
    "df.loc[df['DataRef'] > '2021-09-22', 'NextMeeting'] = pd.to_datetime('2021-10-27')\n",
    "df.loc[df['DataRef'] >= '2021-10-27', 'NextMeeting'] = pd.to_datetime('2021-12-08')"
   ]
  },
  {
   "cell_type": "code",
   "execution_count": 87,
   "id": "conventional-wound",
   "metadata": {},
   "outputs": [],
   "source": [
    "df['DU_NextMeeting'] = list(cal.vec.bizdays(df['DataRef'], df['NextMeeting']))"
   ]
  },
  {
   "cell_type": "code",
   "execution_count": 79,
   "id": "solid-reward",
   "metadata": {},
   "outputs": [
    {
     "data": {
      "text/html": [
       "<div>\n",
       "<style scoped>\n",
       "    .dataframe tbody tr th:only-of-type {\n",
       "        vertical-align: middle;\n",
       "    }\n",
       "\n",
       "    .dataframe tbody tr th {\n",
       "        vertical-align: top;\n",
       "    }\n",
       "\n",
       "    .dataframe thead th {\n",
       "        text-align: right;\n",
       "    }\n",
       "</style>\n",
       "<table border=\"1\" class=\"dataframe\">\n",
       "  <thead>\n",
       "    <tr style=\"text-align: right;\">\n",
       "      <th></th>\n",
       "      <th>DataRef</th>\n",
       "      <th>Mercadoria</th>\n",
       "      <th>CDVencimento</th>\n",
       "      <th>PUAnterior</th>\n",
       "      <th>PUAtual</th>\n",
       "      <th>Variacao</th>\n",
       "      <th>Vencimento</th>\n",
       "      <th>Maturity</th>\n",
       "      <th>DU</th>\n",
       "      <th>Rate</th>\n",
       "      <th>NextMeeting</th>\n",
       "      <th>DU_NextMeeting</th>\n",
       "    </tr>\n",
       "  </thead>\n",
       "  <tbody>\n",
       "    <tr>\n",
       "      <th>196</th>\n",
       "      <td>2021-09-01</td>\n",
       "      <td>DI1</td>\n",
       "      <td>V21</td>\n",
       "      <td>99558.77</td>\n",
       "      <td>99558.60</td>\n",
       "      <td>-0.17</td>\n",
       "      <td>2021-10-01</td>\n",
       "      <td>2021-10-01</td>\n",
       "      <td>21</td>\n",
       "      <td>0.05452</td>\n",
       "      <td>2021-09-22</td>\n",
       "      <td>14</td>\n",
       "    </tr>\n",
       "    <tr>\n",
       "      <th>197</th>\n",
       "      <td>2021-09-01</td>\n",
       "      <td>DI1</td>\n",
       "      <td>X21</td>\n",
       "      <td>99076.35</td>\n",
       "      <td>99073.19</td>\n",
       "      <td>-3.16</td>\n",
       "      <td>2021-11-01</td>\n",
       "      <td>2021-11-01</td>\n",
       "      <td>41</td>\n",
       "      <td>0.05890</td>\n",
       "      <td>2021-09-22</td>\n",
       "      <td>14</td>\n",
       "    </tr>\n",
       "    <tr>\n",
       "      <th>181</th>\n",
       "      <td>2021-09-02</td>\n",
       "      <td>DI1</td>\n",
       "      <td>V21</td>\n",
       "      <td>99578.43</td>\n",
       "      <td>99577.77</td>\n",
       "      <td>-0.66</td>\n",
       "      <td>2021-10-01</td>\n",
       "      <td>2021-10-01</td>\n",
       "      <td>20</td>\n",
       "      <td>0.05476</td>\n",
       "      <td>2021-09-22</td>\n",
       "      <td>13</td>\n",
       "    </tr>\n",
       "    <tr>\n",
       "      <th>182</th>\n",
       "      <td>2021-09-02</td>\n",
       "      <td>DI1</td>\n",
       "      <td>X21</td>\n",
       "      <td>99092.93</td>\n",
       "      <td>99094.21</td>\n",
       "      <td>1.28</td>\n",
       "      <td>2021-11-01</td>\n",
       "      <td>2021-11-01</td>\n",
       "      <td>40</td>\n",
       "      <td>0.05900</td>\n",
       "      <td>2021-09-22</td>\n",
       "      <td>13</td>\n",
       "    </tr>\n",
       "    <tr>\n",
       "      <th>181</th>\n",
       "      <td>2021-09-03</td>\n",
       "      <td>DI1</td>\n",
       "      <td>V21</td>\n",
       "      <td>99597.61</td>\n",
       "      <td>99597.13</td>\n",
       "      <td>-0.48</td>\n",
       "      <td>2021-10-01</td>\n",
       "      <td>2021-10-01</td>\n",
       "      <td>19</td>\n",
       "      <td>0.05500</td>\n",
       "      <td>2021-09-22</td>\n",
       "      <td>12</td>\n",
       "    </tr>\n",
       "  </tbody>\n",
       "</table>\n",
       "</div>"
      ],
      "text/plain": [
       "       DataRef Mercadoria CDVencimento  PUAnterior   PUAtual  Variacao  \\\n",
       "196 2021-09-01        DI1          V21    99558.77  99558.60     -0.17   \n",
       "197 2021-09-01        DI1          X21    99076.35  99073.19     -3.16   \n",
       "181 2021-09-02        DI1          V21    99578.43  99577.77     -0.66   \n",
       "182 2021-09-02        DI1          X21    99092.93  99094.21      1.28   \n",
       "181 2021-09-03        DI1          V21    99597.61  99597.13     -0.48   \n",
       "\n",
       "    Vencimento    Maturity  DU     Rate NextMeeting  DU_NextMeeting  \n",
       "196 2021-10-01  2021-10-01  21  0.05452  2021-09-22              14  \n",
       "197 2021-11-01  2021-11-01  41  0.05890  2021-09-22              14  \n",
       "181 2021-10-01  2021-10-01  20  0.05476  2021-09-22              13  \n",
       "182 2021-11-01  2021-11-01  40  0.05900  2021-09-22              13  \n",
       "181 2021-10-01  2021-10-01  19  0.05500  2021-09-22              12  "
      ]
     },
     "execution_count": 79,
     "metadata": {},
     "output_type": "execute_result"
    }
   ],
   "source": [
    "df.head()"
   ]
  },
  {
   "cell_type": "code",
   "execution_count": 54,
   "id": "funded-festival",
   "metadata": {},
   "outputs": [],
   "source": [
    "cdi = sgs.get(dict(CDI=4389), start_date='2021-09-01', end_date='2021-11-01')"
   ]
  },
  {
   "cell_type": "code",
   "execution_count": 82,
   "id": "potential-blackberry",
   "metadata": {},
   "outputs": [
    {
     "data": {
      "image/png": "[encoded data removed]",
      "text/plain": [
       "<Figure size 1440x432 with 1 Axes>"
      ]
     },
     "metadata": {
      "needs_background": "light"
     },
     "output_type": "display_data"
    }
   ],
   "source": [
    "plt.figure(figsize=(20, 6))\n",
    "_df = df[df['CDVencimento'] == 'V21']\n",
    "plt.plot(_df['DataRef'], _df['Rate'], '-o')\n",
    "plt.plot(cdi.index, cdi['CDI']/100, '^')\n",
    "plt.legend(['V21', 'CDI'])\n",
    "plt.axvline(x=pd.to_datetime('2021-10-01'), ls='-', color='grey')\n",
    "plt.axvline(x=pd.to_datetime('2021-09-22'), ls='--', color='red')\n",
    "plt.axvline(x=pd.to_datetime('2021-10-27'), ls='--', color='red')\n",
    "plt.show()"
   ]
  },
  {
   "cell_type": "code",
   "execution_count": 84,
   "id": "hungry-sword",
   "metadata": {},
   "outputs": [],
   "source": [
    "df_v21 = df[df['CDVencimento'] == 'V21']"
   ]
  },
  {
   "cell_type": "code",
   "execution_count": 90,
   "id": "lonely-omega",
   "metadata": {},
   "outputs": [],
   "source": [
    "df_v21 = pd.merge(df_v21, cdi.reset_index(), left_on='DataRef', right_on='date')"
   ]
  },
  {
   "cell_type": "code",
   "execution_count": 96,
   "id": "animated-pharmacology",
   "metadata": {},
   "outputs": [
    {
     "data": {
      "text/plain": [
       "0      90.846410\n",
       "1      93.422138\n",
       "2      95.283944\n",
       "3      93.326139\n",
       "4      95.945942\n",
       "5     116.001960\n",
       "6     109.592093\n",
       "7     111.105549\n",
       "8      90.824270\n",
       "9      88.616962\n",
       "10     88.454010\n",
       "11     88.114998\n",
       "12     87.523558\n",
       "13     87.138726\n",
       "14     87.801433\n",
       "15      0.002314\n",
       "16     -0.112532\n",
       "17     -0.094398\n",
       "18      0.040874\n",
       "19     -0.100366\n",
       "20      0.001458\n",
       "dtype: float64"
      ]
     },
     "execution_count": 96,
     "metadata": {},
     "output_type": "execute_result"
    }
   ],
   "source": [
    "f1 = (1 + df_v21['Rate']) ** (df_v21['DU']/252)\n",
    "f2 = (1 + df_v21['CDI']/100) ** (df_v21['DU_NextMeeting']/252)\n",
    "10000*((f1 / f2) ** (252 / (df_v21['DU'] - df_v21['DU_NextMeeting'])) - 1 - df_v21['CDI']/100)"
   ]
  },
  {
   "cell_type": "code",
   "execution_count": null,
   "id": "immediate-closure",
   "metadata": {},
   "outputs": [],
   "source": []
  }
 ],
 "metadata": {
  "kernelspec": {
   "display_name": "Python 3",
   "language": "python",
   "name": "python3"
  },
  "language_info": {
   "codemirror_mode": {
    "name": "ipython",
    "version": 3
   },
   "file_extension": ".py",
   "mimetype": "text/x-python",
   "name": "python",
   "nbconvert_exporter": "python",
   "pygments_lexer": "ipython3",
   "version": "3.7.6"
  }
 },
 "nbformat": 4,
 "nbformat_minor": 5
}
