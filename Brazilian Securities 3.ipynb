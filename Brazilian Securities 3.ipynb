{
 "cells": [
  {
   "cell_type": "markdown",
   "id": "recreational-deployment",
   "metadata": {
    "slideshow": {
     "slide_type": "slide"
    }
   },
   "source": [
    "# Brazilian Securities\n",
    "\n",
    "---\n",
    "\n",
    "### Wilson Freitas\n"
   ]
  },
  {
   "cell_type": "markdown",
   "id": "medieval-corporation",
   "metadata": {
    "slideshow": {
     "slide_type": "slide"
    }
   },
   "source": [
    "# Brazilian Securities\n",
    "\n",
    "---\n",
    "\n",
    "### Wilson Freitas\n",
    "\n",
    "# Lecture 3\n",
    "\n",
    "\n",
    "- U.S. Dollar Futures - DOL\n",
    "    - Dollar curve\n",
    "- DI x U.S. Dollar Spread Futures - DDI\n",
    "\t- Dirty DI x U.S. Dollar Spread curve\n",
    "- Forward Rate Agreement on DI x U.S. Dollar Spread - FRC\n",
    "\t- Clean DI x U.S. Dollar Spread curve\n"
   ]
  },
  {
   "cell_type": "code",
   "execution_count": 1,
   "id": "alpha-compilation",
   "metadata": {
    "slideshow": {
     "slide_type": "skip"
    }
   },
   "outputs": [],
   "source": [
    "%load_ext autoreload\n",
    "%autoreload 2"
   ]
  },
  {
   "cell_type": "code",
   "execution_count": 2,
   "id": "surface-dressing",
   "metadata": {
    "slideshow": {
     "slide_type": "slide"
    }
   },
   "outputs": [],
   "source": [
    "import datetime\n",
    "import pandas as pd\n",
    "import numpy as np\n",
    "import matplotlib.pyplot as plt\n",
    "\n",
    "from bcb import currency, sgs\n",
    "import bizdays\n",
    "\n",
    "MARKET_CALENDAR = bizdays.Calendar.load('ANBIMA.cal')\n",
    "ACTUAL_CALENDAR = bizdays.Calendar(name='actual')\n",
    "\n",
    "import myfuncs as my"
   ]
  },
  {
   "cell_type": "markdown",
   "id": "unable-staff",
   "metadata": {
    "slideshow": {
     "slide_type": "slide"
    }
   },
   "source": [
    "## U.S. Dollar Futures - DOL\n",
    "\n",
    "- This trades the future values of exchange rates of Brazilian Reals (BRL) per U.S. Dollar (USD).\n",
    "    - The exchange rate (PTAX800) variation starting on the *preceding business day* and ending on the business day preceding the maturity.\n",
    "    - Price quotation is USD 1.000.\n",
    "\n",
    "- The unit price is defined as\n",
    "\n",
    "$$\n",
    "PU_{DOL} = PTAX_{T-1} \\cdot 1000\n",
    "$$\n",
    "\n",
    "where $PTAX_{T-1}$ is the expected value for the U.S. Dollar exchange rate at maturity.\n"
   ]
  },
  {
   "cell_type": "code",
   "execution_count": 3,
   "id": "objective-curve",
   "metadata": {
    "slideshow": {
     "slide_type": "skip"
    }
   },
   "outputs": [],
   "source": [
    "df = pd.read_parquet('data/contracts_202109_202111.parquet').reset_index(drop=True)"
   ]
  },
  {
   "cell_type": "code",
   "execution_count": 4,
   "id": "fitting-richardson",
   "metadata": {
    "slideshow": {
     "slide_type": "slide"
    }
   },
   "outputs": [],
   "source": [
    "dol = df[(df['Mercadoria'] == 'DOL') &\n",
    "         (df['DataRef'] == pd.to_datetime('2021-11-01'))].reset_index(drop=True)"
   ]
  },
  {
   "cell_type": "code",
   "execution_count": 5,
   "id": "collected-cache",
   "metadata": {},
   "outputs": [],
   "source": [
    "dol['Maturity'] = dol['Vencimento'].map(MARKET_CALENDAR.following)\n",
    "dol['DU'] = list(MARKET_CALENDAR.vec.bizdays(dol['DataRef'], dol['Maturity']))\n",
    "dol['DC'] = list(ACTUAL_CALENDAR.vec.bizdays(dol['DataRef'], dol['Maturity']))\n",
    "dol = dol[dol['DU'] > 0].reset_index(drop=True)"
   ]
  },
  {
   "cell_type": "code",
   "execution_count": 6,
   "id": "potential-change",
   "metadata": {},
   "outputs": [],
   "source": [
    "dol['PU'] = dol['PUAtual']/1000\n",
    "dol_curve = dol[['DataRef', 'Maturity', 'DU', 'DC', 'PU']].copy()"
   ]
  },
  {
   "cell_type": "code",
   "execution_count": 7,
   "id": "settled-polyester",
   "metadata": {},
   "outputs": [
    {
     "data": {
      "text/html": [
       "<div>\n",
       "<style scoped>\n",
       "    .dataframe tbody tr th:only-of-type {\n",
       "        vertical-align: middle;\n",
       "    }\n",
       "\n",
       "    .dataframe tbody tr th {\n",
       "        vertical-align: top;\n",
       "    }\n",
       "\n",
       "    .dataframe thead th {\n",
       "        text-align: right;\n",
       "    }\n",
       "</style>\n",
       "<table border=\"1\" class=\"dataframe\">\n",
       "  <thead>\n",
       "    <tr style=\"text-align: right;\">\n",
       "      <th></th>\n",
       "      <th>DataRef</th>\n",
       "      <th>Maturity</th>\n",
       "      <th>DU</th>\n",
       "      <th>DC</th>\n",
       "      <th>PU</th>\n",
       "    </tr>\n",
       "  </thead>\n",
       "  <tbody>\n",
       "    <tr>\n",
       "      <th>0</th>\n",
       "      <td>2021-11-01</td>\n",
       "      <td>2021-12-01</td>\n",
       "      <td>20</td>\n",
       "      <td>30</td>\n",
       "      <td>5.700499</td>\n",
       "    </tr>\n",
       "    <tr>\n",
       "      <th>1</th>\n",
       "      <td>2021-11-01</td>\n",
       "      <td>2022-01-03</td>\n",
       "      <td>43</td>\n",
       "      <td>63</td>\n",
       "      <td>5.741469</td>\n",
       "    </tr>\n",
       "    <tr>\n",
       "      <th>2</th>\n",
       "      <td>2021-11-01</td>\n",
       "      <td>2022-02-01</td>\n",
       "      <td>64</td>\n",
       "      <td>92</td>\n",
       "      <td>5.782576</td>\n",
       "    </tr>\n",
       "    <tr>\n",
       "      <th>3</th>\n",
       "      <td>2021-11-01</td>\n",
       "      <td>2022-03-02</td>\n",
       "      <td>83</td>\n",
       "      <td>121</td>\n",
       "      <td>5.826399</td>\n",
       "    </tr>\n",
       "    <tr>\n",
       "      <th>4</th>\n",
       "      <td>2021-11-01</td>\n",
       "      <td>2022-04-01</td>\n",
       "      <td>105</td>\n",
       "      <td>151</td>\n",
       "      <td>5.882861</td>\n",
       "    </tr>\n",
       "    <tr>\n",
       "      <th>5</th>\n",
       "      <td>2021-11-01</td>\n",
       "      <td>2022-05-02</td>\n",
       "      <td>124</td>\n",
       "      <td>182</td>\n",
       "      <td>5.932744</td>\n",
       "    </tr>\n",
       "    <tr>\n",
       "      <th>6</th>\n",
       "      <td>2021-11-01</td>\n",
       "      <td>2022-06-01</td>\n",
       "      <td>146</td>\n",
       "      <td>212</td>\n",
       "      <td>5.994703</td>\n",
       "    </tr>\n",
       "    <tr>\n",
       "      <th>7</th>\n",
       "      <td>2021-11-01</td>\n",
       "      <td>2022-07-01</td>\n",
       "      <td>167</td>\n",
       "      <td>242</td>\n",
       "      <td>6.056054</td>\n",
       "    </tr>\n",
       "    <tr>\n",
       "      <th>8</th>\n",
       "      <td>2021-11-01</td>\n",
       "      <td>2022-08-01</td>\n",
       "      <td>188</td>\n",
       "      <td>273</td>\n",
       "      <td>6.112162</td>\n",
       "    </tr>\n",
       "    <tr>\n",
       "      <th>9</th>\n",
       "      <td>2021-11-01</td>\n",
       "      <td>2022-09-01</td>\n",
       "      <td>211</td>\n",
       "      <td>304</td>\n",
       "      <td>6.175853</td>\n",
       "    </tr>\n",
       "    <tr>\n",
       "      <th>10</th>\n",
       "      <td>2021-11-01</td>\n",
       "      <td>2022-10-03</td>\n",
       "      <td>232</td>\n",
       "      <td>336</td>\n",
       "      <td>6.234773</td>\n",
       "    </tr>\n",
       "    <tr>\n",
       "      <th>11</th>\n",
       "      <td>2021-11-01</td>\n",
       "      <td>2022-11-01</td>\n",
       "      <td>252</td>\n",
       "      <td>365</td>\n",
       "      <td>6.288794</td>\n",
       "    </tr>\n",
       "    <tr>\n",
       "      <th>12</th>\n",
       "      <td>2021-11-01</td>\n",
       "      <td>2022-12-01</td>\n",
       "      <td>272</td>\n",
       "      <td>395</td>\n",
       "      <td>6.342945</td>\n",
       "    </tr>\n",
       "    <tr>\n",
       "      <th>13</th>\n",
       "      <td>2021-11-01</td>\n",
       "      <td>2023-01-02</td>\n",
       "      <td>294</td>\n",
       "      <td>427</td>\n",
       "      <td>6.403784</td>\n",
       "    </tr>\n",
       "    <tr>\n",
       "      <th>14</th>\n",
       "      <td>2021-11-01</td>\n",
       "      <td>2023-04-03</td>\n",
       "      <td>357</td>\n",
       "      <td>518</td>\n",
       "      <td>6.573809</td>\n",
       "    </tr>\n",
       "    <tr>\n",
       "      <th>15</th>\n",
       "      <td>2021-11-01</td>\n",
       "      <td>2023-07-03</td>\n",
       "      <td>418</td>\n",
       "      <td>609</td>\n",
       "      <td>6.748899</td>\n",
       "    </tr>\n",
       "    <tr>\n",
       "      <th>16</th>\n",
       "      <td>2021-11-01</td>\n",
       "      <td>2023-10-02</td>\n",
       "      <td>482</td>\n",
       "      <td>700</td>\n",
       "      <td>6.917391</td>\n",
       "    </tr>\n",
       "    <tr>\n",
       "      <th>17</th>\n",
       "      <td>2021-11-01</td>\n",
       "      <td>2024-01-02</td>\n",
       "      <td>543</td>\n",
       "      <td>792</td>\n",
       "      <td>7.072754</td>\n",
       "    </tr>\n",
       "    <tr>\n",
       "      <th>18</th>\n",
       "      <td>2021-11-01</td>\n",
       "      <td>2024-04-01</td>\n",
       "      <td>604</td>\n",
       "      <td>882</td>\n",
       "      <td>7.243376</td>\n",
       "    </tr>\n",
       "    <tr>\n",
       "      <th>19</th>\n",
       "      <td>2021-11-01</td>\n",
       "      <td>2024-07-01</td>\n",
       "      <td>667</td>\n",
       "      <td>973</td>\n",
       "      <td>7.419898</td>\n",
       "    </tr>\n",
       "    <tr>\n",
       "      <th>20</th>\n",
       "      <td>2021-11-01</td>\n",
       "      <td>2024-10-01</td>\n",
       "      <td>733</td>\n",
       "      <td>1065</td>\n",
       "      <td>7.594880</td>\n",
       "    </tr>\n",
       "    <tr>\n",
       "      <th>21</th>\n",
       "      <td>2021-11-01</td>\n",
       "      <td>2025-01-02</td>\n",
       "      <td>797</td>\n",
       "      <td>1158</td>\n",
       "      <td>7.790854</td>\n",
       "    </tr>\n",
       "  </tbody>\n",
       "</table>\n",
       "</div>"
      ],
      "text/plain": [
       "       DataRef    Maturity   DU    DC        PU\n",
       "0   2021-11-01  2021-12-01   20    30  5.700499\n",
       "1   2021-11-01  2022-01-03   43    63  5.741469\n",
       "2   2021-11-01  2022-02-01   64    92  5.782576\n",
       "3   2021-11-01  2022-03-02   83   121  5.826399\n",
       "4   2021-11-01  2022-04-01  105   151  5.882861\n",
       "5   2021-11-01  2022-05-02  124   182  5.932744\n",
       "6   2021-11-01  2022-06-01  146   212  5.994703\n",
       "7   2021-11-01  2022-07-01  167   242  6.056054\n",
       "8   2021-11-01  2022-08-01  188   273  6.112162\n",
       "9   2021-11-01  2022-09-01  211   304  6.175853\n",
       "10  2021-11-01  2022-10-03  232   336  6.234773\n",
       "11  2021-11-01  2022-11-01  252   365  6.288794\n",
       "12  2021-11-01  2022-12-01  272   395  6.342945\n",
       "13  2021-11-01  2023-01-02  294   427  6.403784\n",
       "14  2021-11-01  2023-04-03  357   518  6.573809\n",
       "15  2021-11-01  2023-07-03  418   609  6.748899\n",
       "16  2021-11-01  2023-10-02  482   700  6.917391\n",
       "17  2021-11-01  2024-01-02  543   792  7.072754\n",
       "18  2021-11-01  2024-04-01  604   882  7.243376\n",
       "19  2021-11-01  2024-07-01  667   973  7.419898\n",
       "20  2021-11-01  2024-10-01  733  1065  7.594880\n",
       "21  2021-11-01  2025-01-02  797  1158  7.790854"
      ]
     },
     "execution_count": 7,
     "metadata": {},
     "output_type": "execute_result"
    }
   ],
   "source": [
    "dol_curve"
   ]
  },
  {
   "cell_type": "code",
   "execution_count": 8,
   "id": "thirty-administration",
   "metadata": {
    "slideshow": {
     "slide_type": "slide"
    }
   },
   "outputs": [
    {
     "data": {
      "image/png": "[encoded data removed]",
      "text/plain": [
       "<Figure size 1440x432 with 1 Axes>"
      ]
     },
     "metadata": {
      "needs_background": "light"
     },
     "output_type": "display_data"
    }
   ],
   "source": [
    "dol_curve.plot(x='Maturity', y='PU', figsize=(20,6), style='-o',\n",
    "               ylabel='PU', xlabel='Date', title='U.S. Dollar Futures - 2021-11-01');"
   ]
  },
  {
   "cell_type": "markdown",
   "id": "virtual-heavy",
   "metadata": {
    "slideshow": {
     "slide_type": "slide"
    }
   },
   "source": [
    "- We use the current U.S. Dollar exchange rate as the first point of the curve"
   ]
  },
  {
   "cell_type": "code",
   "execution_count": 9,
   "id": "closed-uncle",
   "metadata": {},
   "outputs": [
    {
     "data": {
      "text/html": [
       "<div>\n",
       "<style scoped>\n",
       "    .dataframe tbody tr th:only-of-type {\n",
       "        vertical-align: middle;\n",
       "    }\n",
       "\n",
       "    .dataframe tbody tr th {\n",
       "        vertical-align: top;\n",
       "    }\n",
       "\n",
       "    .dataframe thead th {\n",
       "        text-align: right;\n",
       "    }\n",
       "</style>\n",
       "<table border=\"1\" class=\"dataframe\">\n",
       "  <thead>\n",
       "    <tr style=\"text-align: right;\">\n",
       "      <th></th>\n",
       "      <th>PTAX</th>\n",
       "    </tr>\n",
       "    <tr>\n",
       "      <th>date</th>\n",
       "      <th></th>\n",
       "    </tr>\n",
       "  </thead>\n",
       "  <tbody>\n",
       "    <tr>\n",
       "      <th>2021-10-29</th>\n",
       "      <td>5.6430</td>\n",
       "    </tr>\n",
       "    <tr>\n",
       "      <th>2021-11-01</th>\n",
       "      <td>5.6694</td>\n",
       "    </tr>\n",
       "  </tbody>\n",
       "</table>\n",
       "</div>"
      ],
      "text/plain": [
       "              PTAX\n",
       "date              \n",
       "2021-10-29  5.6430\n",
       "2021-11-01  5.6694"
      ]
     },
     "execution_count": 9,
     "metadata": {},
     "output_type": "execute_result"
    }
   ],
   "source": [
    "PTAX = sgs.get(('PTAX', 1), start_date='2021-10-29', end_date='2021-11-01')\n",
    "PTAX"
   ]
  },
  {
   "cell_type": "code",
   "execution_count": 10,
   "id": "considerable-prize",
   "metadata": {
    "slideshow": {
     "slide_type": "slide"
    }
   },
   "outputs": [],
   "source": [
    "first_term = pd.DataFrame({\n",
    "    'DataRef': datetime.datetime(2021,11,1).date(),\n",
    "    'Maturity': datetime.datetime(2021,11,3).date(),\n",
    "    'DU': [1],\n",
    "    'DC': [2],\n",
    "    'PU': [PTAX.values[1,0]]\n",
    "})"
   ]
  },
  {
   "cell_type": "code",
   "execution_count": 11,
   "id": "dated-thailand",
   "metadata": {},
   "outputs": [],
   "source": [
    "dol_curve = pd.concat([first_term, dol_curve], axis=0).reset_index(drop=True)"
   ]
  },
  {
   "cell_type": "code",
   "execution_count": 12,
   "id": "black-asset",
   "metadata": {},
   "outputs": [
    {
     "data": {
      "text/html": [
       "<div>\n",
       "<style scoped>\n",
       "    .dataframe tbody tr th:only-of-type {\n",
       "        vertical-align: middle;\n",
       "    }\n",
       "\n",
       "    .dataframe tbody tr th {\n",
       "        vertical-align: top;\n",
       "    }\n",
       "\n",
       "    .dataframe thead th {\n",
       "        text-align: right;\n",
       "    }\n",
       "</style>\n",
       "<table border=\"1\" class=\"dataframe\">\n",
       "  <thead>\n",
       "    <tr style=\"text-align: right;\">\n",
       "      <th></th>\n",
       "      <th>DataRef</th>\n",
       "      <th>Maturity</th>\n",
       "      <th>DU</th>\n",
       "      <th>DC</th>\n",
       "      <th>PU</th>\n",
       "    </tr>\n",
       "  </thead>\n",
       "  <tbody>\n",
       "    <tr>\n",
       "      <th>0</th>\n",
       "      <td>2021-11-01</td>\n",
       "      <td>2021-11-03</td>\n",
       "      <td>1</td>\n",
       "      <td>2</td>\n",
       "      <td>5.669400</td>\n",
       "    </tr>\n",
       "    <tr>\n",
       "      <th>1</th>\n",
       "      <td>2021-11-01</td>\n",
       "      <td>2021-12-01</td>\n",
       "      <td>20</td>\n",
       "      <td>30</td>\n",
       "      <td>5.700499</td>\n",
       "    </tr>\n",
       "    <tr>\n",
       "      <th>2</th>\n",
       "      <td>2021-11-01</td>\n",
       "      <td>2022-01-03</td>\n",
       "      <td>43</td>\n",
       "      <td>63</td>\n",
       "      <td>5.741469</td>\n",
       "    </tr>\n",
       "    <tr>\n",
       "      <th>3</th>\n",
       "      <td>2021-11-01</td>\n",
       "      <td>2022-02-01</td>\n",
       "      <td>64</td>\n",
       "      <td>92</td>\n",
       "      <td>5.782576</td>\n",
       "    </tr>\n",
       "    <tr>\n",
       "      <th>4</th>\n",
       "      <td>2021-11-01</td>\n",
       "      <td>2022-03-02</td>\n",
       "      <td>83</td>\n",
       "      <td>121</td>\n",
       "      <td>5.826399</td>\n",
       "    </tr>\n",
       "  </tbody>\n",
       "</table>\n",
       "</div>"
      ],
      "text/plain": [
       "      DataRef    Maturity  DU   DC        PU\n",
       "0  2021-11-01  2021-11-03   1    2  5.669400\n",
       "1  2021-11-01  2021-12-01  20   30  5.700499\n",
       "2  2021-11-01  2022-01-03  43   63  5.741469\n",
       "3  2021-11-01  2022-02-01  64   92  5.782576\n",
       "4  2021-11-01  2022-03-02  83  121  5.826399"
      ]
     },
     "execution_count": 12,
     "metadata": {},
     "output_type": "execute_result"
    }
   ],
   "source": [
    "dol_curve.head()"
   ]
  },
  {
   "cell_type": "code",
   "execution_count": 13,
   "id": "described-deadline",
   "metadata": {
    "slideshow": {
     "slide_type": "slide"
    }
   },
   "outputs": [
    {
     "data": {
      "image/png": "[encoded data removed]",
      "text/plain": [
       "<Figure size 1440x432 with 1 Axes>"
      ]
     },
     "metadata": {
      "needs_background": "light"
     },
     "output_type": "display_data"
    }
   ],
   "source": [
    "dol.plot(x='Maturity', y='PU', figsize=(20,6), style='-o',\n",
    "         ylabel='PU', xlabel='Date', title='U.S. Dollar Futures - 2021-11-01');"
   ]
  },
  {
   "cell_type": "markdown",
   "id": "sonic-airplane",
   "metadata": {
    "slideshow": {
     "slide_type": "slide"
    }
   },
   "source": [
    "### Pricing\n",
    "\n",
    "- From arbitrage theory the future price of U.S. exchance rage can be written as\n",
    "\n",
    "\n",
    "$$\n",
    "PTAX_{T-1} = PTAX_{t-1} \\frac{( 1 + r(t,T) )^{DU(t,T)/252}}{1 + c(t,T) \\cdot \\frac{DC(t,T)}{360}}\n",
    "$$\n",
    "\n",
    "where\n",
    "\n",
    "- $t$: current instant of time (reference date)\n",
    "- $T$: maturity date (date when the contract expires)\n",
    "- $PTAX_{t-1}$ the exchange rate starting on the business day preceding $t$\n",
    "- $PTAX_{T-1}$ the exchange rate starting on the business day preceding $T$\n",
    "- $DC(t,T)$: the total number of days between $t$ e $T$\n",
    "- $c(t,T)$: spot interest rate between reference date and contract maturity\n",
    "- $r(t,T)$: risk free interest rate (DI1 Futures rates)\n"
   ]
  },
  {
   "cell_type": "markdown",
   "id": "seven-tunisia",
   "metadata": {
    "slideshow": {
     "slide_type": "slide"
    }
   },
   "source": [
    "## DI x U.S. Dollar Spread Futures\n",
    "\n",
    "- This is an interest rate future on the spread between the **interest rate** and **the exchange rate variation**.\n",
    "- This spread is called **CUPOM CAMBIAL**.\n",
    "- The future is called **DDI** Future."
   ]
  },
  {
   "cell_type": "markdown",
   "id": "identical-contest",
   "metadata": {
    "slideshow": {
     "slide_type": "slide"
    }
   },
   "source": [
    "### What is CUPOM CAMBIAL?\n",
    "\n",
    "\n",
    "$$\n",
    "1 + c(t,T) \\cdot \\frac{DC(t,T)}{360} = \\frac{\\Pi_{i=t}^{T}(1 + CDI_i)^{1/252}}{\\frac{PTAX_{T-1}}{PTAX_{t-1}}}\n",
    "$$\n",
    "\n",
    "- The CUPOM CAMBIAL is calculated from the difference between:\n",
    "    - the compounded DI rates from an initial date $t$ and up to a date $T$ in the future.\n",
    "    - the exchange rate variation PTAX800 starting on the business day preceding $t$ and ending on the business day preceding $T$.\n",
    "- This spread uses simple compounding with current days (360 days per year).\n",
    "\n",
    "\n",
    "where\n",
    "\n",
    "- $c(t,T)$ is an exchange interest rate for U.S. Dollar (CUPOM CAMBIAL).\n",
    "- $DC(t,T)$ is the total number of days between $t$ e $T$.\n",
    "- $PTAX_{t-1}$ the exchange rate starting on the business day preceding $t$\n",
    "- $PTAX_{T-1}$ the exchange rate starting on the business day preceding $T$\n"
   ]
  },
  {
   "cell_type": "markdown",
   "id": "acknowledged-salad",
   "metadata": {
    "slideshow": {
     "slide_type": "subslide"
    }
   },
   "source": [
    "#### U.S. Dollar Exchange Rate Future Value\n",
    "\n",
    "- According to Arbitrage Pricing Theory\n",
    "\n",
    "\n",
    "$$\n",
    "PTAX_{T-1} = PTAX_{t-1} \\frac{( 1 + r(t,T) )^{DU(t,T)/252}}{1 + c(t,T) \\cdot \\frac{DC(t,T)}{360}}\n",
    "$$\n",
    "\n"
   ]
  },
  {
   "cell_type": "markdown",
   "id": "developing-equation",
   "metadata": {
    "slideshow": {
     "slide_type": "slide"
    }
   },
   "source": [
    "### Pricing\n",
    "\n",
    "- The DDI Future is priced as a bullet bond.\n",
    "\n",
    "\n",
    "$$\n",
    "PU_{DDI}(t,T) = \\frac{100000}{1 + c(t,T) \\cdot \\frac{DC(t,T)}{360}}\n",
    "$$\n",
    "\n",
    "where\n",
    "\n",
    "- $t$: current instant of time (reference date)\n",
    "- $T$: maturity date (date when the contract expires)\n",
    "- $DC(t,T)$: the total number of days between $t$ e $T$\n",
    "- $c(t,T)$: spot interest rate between reference date and contract maturity\n",
    "\n",
    "\n",
    "\n"
   ]
  },
  {
   "cell_type": "code",
   "execution_count": 14,
   "id": "genuine-foundation",
   "metadata": {
    "slideshow": {
     "slide_type": "slide"
    }
   },
   "outputs": [],
   "source": [
    "ddi = df[(df['Mercadoria'] == 'DDI') &\n",
    "         (df['DataRef'] == pd.to_datetime('2021-11-01'))].reset_index(drop=True)"
   ]
  },
  {
   "cell_type": "code",
   "execution_count": 15,
   "id": "hundred-hanging",
   "metadata": {},
   "outputs": [
    {
     "data": {
      "text/html": [
       "<div>\n",
       "<style scoped>\n",
       "    .dataframe tbody tr th:only-of-type {\n",
       "        vertical-align: middle;\n",
       "    }\n",
       "\n",
       "    .dataframe tbody tr th {\n",
       "        vertical-align: top;\n",
       "    }\n",
       "\n",
       "    .dataframe thead th {\n",
       "        text-align: right;\n",
       "    }\n",
       "</style>\n",
       "<table border=\"1\" class=\"dataframe\">\n",
       "  <thead>\n",
       "    <tr style=\"text-align: right;\">\n",
       "      <th></th>\n",
       "      <th>DataRef</th>\n",
       "      <th>Mercadoria</th>\n",
       "      <th>CDVencimento</th>\n",
       "      <th>PUAnterior</th>\n",
       "      <th>PUAtual</th>\n",
       "      <th>Variacao</th>\n",
       "      <th>Vencimento</th>\n",
       "      <th>Maturity</th>\n",
       "      <th>DC</th>\n",
       "    </tr>\n",
       "  </thead>\n",
       "  <tbody>\n",
       "    <tr>\n",
       "      <th>0</th>\n",
       "      <td>2021-11-01</td>\n",
       "      <td>DDI</td>\n",
       "      <td>Z21</td>\n",
       "      <td>99387.51</td>\n",
       "      <td>100428.16</td>\n",
       "      <td>1040.65</td>\n",
       "      <td>2021-12-01</td>\n",
       "      <td>2021-12-01</td>\n",
       "      <td>30</td>\n",
       "    </tr>\n",
       "    <tr>\n",
       "      <th>1</th>\n",
       "      <td>2021-11-01</td>\n",
       "      <td>DDI</td>\n",
       "      <td>F22</td>\n",
       "      <td>99313.85</td>\n",
       "      <td>100357.40</td>\n",
       "      <td>1043.55</td>\n",
       "      <td>2022-01-01</td>\n",
       "      <td>2022-01-03</td>\n",
       "      <td>63</td>\n",
       "    </tr>\n",
       "    <tr>\n",
       "      <th>2</th>\n",
       "      <td>2021-11-01</td>\n",
       "      <td>DDI</td>\n",
       "      <td>G22</td>\n",
       "      <td>99269.65</td>\n",
       "      <td>100310.70</td>\n",
       "      <td>1041.05</td>\n",
       "      <td>2022-02-01</td>\n",
       "      <td>2022-02-01</td>\n",
       "      <td>92</td>\n",
       "    </tr>\n",
       "    <tr>\n",
       "      <th>3</th>\n",
       "      <td>2021-11-01</td>\n",
       "      <td>DDI</td>\n",
       "      <td>H22</td>\n",
       "      <td>99206.95</td>\n",
       "      <td>100248.33</td>\n",
       "      <td>1041.38</td>\n",
       "      <td>2022-03-01</td>\n",
       "      <td>2022-03-02</td>\n",
       "      <td>121</td>\n",
       "    </tr>\n",
       "    <tr>\n",
       "      <th>4</th>\n",
       "      <td>2021-11-01</td>\n",
       "      <td>DDI</td>\n",
       "      <td>J22</td>\n",
       "      <td>99127.65</td>\n",
       "      <td>100168.90</td>\n",
       "      <td>1041.25</td>\n",
       "      <td>2022-04-01</td>\n",
       "      <td>2022-04-01</td>\n",
       "      <td>151</td>\n",
       "    </tr>\n",
       "    <tr>\n",
       "      <th>5</th>\n",
       "      <td>2021-11-01</td>\n",
       "      <td>DDI</td>\n",
       "      <td>K22</td>\n",
       "      <td>99053.14</td>\n",
       "      <td>100094.12</td>\n",
       "      <td>1040.98</td>\n",
       "      <td>2022-05-01</td>\n",
       "      <td>2022-05-02</td>\n",
       "      <td>182</td>\n",
       "    </tr>\n",
       "    <tr>\n",
       "      <th>6</th>\n",
       "      <td>2021-11-01</td>\n",
       "      <td>DDI</td>\n",
       "      <td>M22</td>\n",
       "      <td>98961.99</td>\n",
       "      <td>99993.52</td>\n",
       "      <td>1031.53</td>\n",
       "      <td>2022-06-01</td>\n",
       "      <td>2022-06-01</td>\n",
       "      <td>212</td>\n",
       "    </tr>\n",
       "    <tr>\n",
       "      <th>7</th>\n",
       "      <td>2021-11-01</td>\n",
       "      <td>DDI</td>\n",
       "      <td>N22</td>\n",
       "      <td>98921.32</td>\n",
       "      <td>99951.62</td>\n",
       "      <td>1030.30</td>\n",
       "      <td>2022-07-01</td>\n",
       "      <td>2022-07-01</td>\n",
       "      <td>242</td>\n",
       "    </tr>\n",
       "    <tr>\n",
       "      <th>8</th>\n",
       "      <td>2021-11-01</td>\n",
       "      <td>DDI</td>\n",
       "      <td>Q22</td>\n",
       "      <td>98774.23</td>\n",
       "      <td>99794.91</td>\n",
       "      <td>1020.68</td>\n",
       "      <td>2022-08-01</td>\n",
       "      <td>2022-08-01</td>\n",
       "      <td>273</td>\n",
       "    </tr>\n",
       "    <tr>\n",
       "      <th>9</th>\n",
       "      <td>2021-11-01</td>\n",
       "      <td>DDI</td>\n",
       "      <td>U22</td>\n",
       "      <td>98658.94</td>\n",
       "      <td>99676.78</td>\n",
       "      <td>1017.84</td>\n",
       "      <td>2022-09-01</td>\n",
       "      <td>2022-09-01</td>\n",
       "      <td>304</td>\n",
       "    </tr>\n",
       "    <tr>\n",
       "      <th>10</th>\n",
       "      <td>2021-11-01</td>\n",
       "      <td>DDI</td>\n",
       "      <td>V22</td>\n",
       "      <td>98532.99</td>\n",
       "      <td>99548.45</td>\n",
       "      <td>1015.46</td>\n",
       "      <td>2022-10-01</td>\n",
       "      <td>2022-10-03</td>\n",
       "      <td>336</td>\n",
       "    </tr>\n",
       "    <tr>\n",
       "      <th>11</th>\n",
       "      <td>2021-11-01</td>\n",
       "      <td>DDI</td>\n",
       "      <td>X22</td>\n",
       "      <td>98407.45</td>\n",
       "      <td>99419.39</td>\n",
       "      <td>1011.94</td>\n",
       "      <td>2022-11-01</td>\n",
       "      <td>2022-11-01</td>\n",
       "      <td>365</td>\n",
       "    </tr>\n",
       "    <tr>\n",
       "      <th>12</th>\n",
       "      <td>2021-11-01</td>\n",
       "      <td>DDI</td>\n",
       "      <td>Z22</td>\n",
       "      <td>98271.09</td>\n",
       "      <td>99281.04</td>\n",
       "      <td>1009.95</td>\n",
       "      <td>2022-12-01</td>\n",
       "      <td>2022-12-01</td>\n",
       "      <td>395</td>\n",
       "    </tr>\n",
       "    <tr>\n",
       "      <th>13</th>\n",
       "      <td>2021-11-01</td>\n",
       "      <td>DDI</td>\n",
       "      <td>F23</td>\n",
       "      <td>98131.84</td>\n",
       "      <td>99138.07</td>\n",
       "      <td>1006.23</td>\n",
       "      <td>2023-01-01</td>\n",
       "      <td>2023-01-02</td>\n",
       "      <td>427</td>\n",
       "    </tr>\n",
       "    <tr>\n",
       "      <th>14</th>\n",
       "      <td>2021-11-01</td>\n",
       "      <td>DDI</td>\n",
       "      <td>J23</td>\n",
       "      <td>97719.06</td>\n",
       "      <td>98728.57</td>\n",
       "      <td>1009.51</td>\n",
       "      <td>2023-04-01</td>\n",
       "      <td>2023-04-03</td>\n",
       "      <td>518</td>\n",
       "    </tr>\n",
       "    <tr>\n",
       "      <th>15</th>\n",
       "      <td>2021-11-01</td>\n",
       "      <td>DDI</td>\n",
       "      <td>N23</td>\n",
       "      <td>97321.13</td>\n",
       "      <td>98387.21</td>\n",
       "      <td>1066.08</td>\n",
       "      <td>2023-07-01</td>\n",
       "      <td>2023-07-03</td>\n",
       "      <td>609</td>\n",
       "    </tr>\n",
       "    <tr>\n",
       "      <th>16</th>\n",
       "      <td>2021-11-01</td>\n",
       "      <td>DDI</td>\n",
       "      <td>V23</td>\n",
       "      <td>96811.74</td>\n",
       "      <td>97823.96</td>\n",
       "      <td>1012.22</td>\n",
       "      <td>2023-10-01</td>\n",
       "      <td>2023-10-02</td>\n",
       "      <td>700</td>\n",
       "    </tr>\n",
       "    <tr>\n",
       "      <th>17</th>\n",
       "      <td>2021-11-01</td>\n",
       "      <td>DDI</td>\n",
       "      <td>F24</td>\n",
       "      <td>96348.47</td>\n",
       "      <td>97298.60</td>\n",
       "      <td>950.13</td>\n",
       "      <td>2024-01-01</td>\n",
       "      <td>2024-01-02</td>\n",
       "      <td>792</td>\n",
       "    </tr>\n",
       "    <tr>\n",
       "      <th>18</th>\n",
       "      <td>2021-11-01</td>\n",
       "      <td>DDI</td>\n",
       "      <td>J24</td>\n",
       "      <td>95891.87</td>\n",
       "      <td>96830.54</td>\n",
       "      <td>938.67</td>\n",
       "      <td>2024-04-01</td>\n",
       "      <td>2024-04-01</td>\n",
       "      <td>882</td>\n",
       "    </tr>\n",
       "    <tr>\n",
       "      <th>19</th>\n",
       "      <td>2021-11-01</td>\n",
       "      <td>DDI</td>\n",
       "      <td>N24</td>\n",
       "      <td>95412.70</td>\n",
       "      <td>96316.44</td>\n",
       "      <td>903.74</td>\n",
       "      <td>2024-07-01</td>\n",
       "      <td>2024-07-01</td>\n",
       "      <td>973</td>\n",
       "    </tr>\n",
       "    <tr>\n",
       "      <th>20</th>\n",
       "      <td>2021-11-01</td>\n",
       "      <td>DDI</td>\n",
       "      <td>V24</td>\n",
       "      <td>94860.29</td>\n",
       "      <td>95721.22</td>\n",
       "      <td>860.93</td>\n",
       "      <td>2024-10-01</td>\n",
       "      <td>2024-10-01</td>\n",
       "      <td>1065</td>\n",
       "    </tr>\n",
       "    <tr>\n",
       "      <th>21</th>\n",
       "      <td>2021-11-01</td>\n",
       "      <td>DDI</td>\n",
       "      <td>F25</td>\n",
       "      <td>94333.25</td>\n",
       "      <td>95151.82</td>\n",
       "      <td>818.57</td>\n",
       "      <td>2025-01-01</td>\n",
       "      <td>2025-01-02</td>\n",
       "      <td>1158</td>\n",
       "    </tr>\n",
       "    <tr>\n",
       "      <th>22</th>\n",
       "      <td>2021-11-01</td>\n",
       "      <td>DDI</td>\n",
       "      <td>J25</td>\n",
       "      <td>93806.32</td>\n",
       "      <td>94605.98</td>\n",
       "      <td>799.66</td>\n",
       "      <td>2025-04-01</td>\n",
       "      <td>2025-04-01</td>\n",
       "      <td>1247</td>\n",
       "    </tr>\n",
       "    <tr>\n",
       "      <th>23</th>\n",
       "      <td>2021-11-01</td>\n",
       "      <td>DDI</td>\n",
       "      <td>N25</td>\n",
       "      <td>93349.45</td>\n",
       "      <td>94136.13</td>\n",
       "      <td>786.68</td>\n",
       "      <td>2025-07-01</td>\n",
       "      <td>2025-07-01</td>\n",
       "      <td>1338</td>\n",
       "    </tr>\n",
       "    <tr>\n",
       "      <th>24</th>\n",
       "      <td>2021-11-01</td>\n",
       "      <td>DDI</td>\n",
       "      <td>V25</td>\n",
       "      <td>92852.42</td>\n",
       "      <td>93653.47</td>\n",
       "      <td>801.05</td>\n",
       "      <td>2025-10-01</td>\n",
       "      <td>2025-10-01</td>\n",
       "      <td>1430</td>\n",
       "    </tr>\n",
       "    <tr>\n",
       "      <th>25</th>\n",
       "      <td>2021-11-01</td>\n",
       "      <td>DDI</td>\n",
       "      <td>F26</td>\n",
       "      <td>92339.55</td>\n",
       "      <td>93128.87</td>\n",
       "      <td>789.32</td>\n",
       "      <td>2026-01-01</td>\n",
       "      <td>2026-01-02</td>\n",
       "      <td>1523</td>\n",
       "    </tr>\n",
       "    <tr>\n",
       "      <th>26</th>\n",
       "      <td>2021-11-01</td>\n",
       "      <td>DDI</td>\n",
       "      <td>J26</td>\n",
       "      <td>91916.14</td>\n",
       "      <td>92690.98</td>\n",
       "      <td>774.84</td>\n",
       "      <td>2026-04-01</td>\n",
       "      <td>2026-04-01</td>\n",
       "      <td>1612</td>\n",
       "    </tr>\n",
       "    <tr>\n",
       "      <th>27</th>\n",
       "      <td>2021-11-01</td>\n",
       "      <td>DDI</td>\n",
       "      <td>N26</td>\n",
       "      <td>91400.18</td>\n",
       "      <td>92161.19</td>\n",
       "      <td>761.01</td>\n",
       "      <td>2026-07-01</td>\n",
       "      <td>2026-07-01</td>\n",
       "      <td>1703</td>\n",
       "    </tr>\n",
       "    <tr>\n",
       "      <th>28</th>\n",
       "      <td>2021-11-01</td>\n",
       "      <td>DDI</td>\n",
       "      <td>V26</td>\n",
       "      <td>90959.74</td>\n",
       "      <td>91705.42</td>\n",
       "      <td>745.68</td>\n",
       "      <td>2026-10-01</td>\n",
       "      <td>2026-10-01</td>\n",
       "      <td>1795</td>\n",
       "    </tr>\n",
       "    <tr>\n",
       "      <th>29</th>\n",
       "      <td>2021-11-01</td>\n",
       "      <td>DDI</td>\n",
       "      <td>F27</td>\n",
       "      <td>90419.84</td>\n",
       "      <td>91151.68</td>\n",
       "      <td>731.84</td>\n",
       "      <td>2027-01-01</td>\n",
       "      <td>2027-01-04</td>\n",
       "      <td>1890</td>\n",
       "    </tr>\n",
       "    <tr>\n",
       "      <th>30</th>\n",
       "      <td>2021-11-01</td>\n",
       "      <td>DDI</td>\n",
       "      <td>F28</td>\n",
       "      <td>88407.09</td>\n",
       "      <td>89139.17</td>\n",
       "      <td>732.08</td>\n",
       "      <td>2028-01-01</td>\n",
       "      <td>2028-01-03</td>\n",
       "      <td>2254</td>\n",
       "    </tr>\n",
       "    <tr>\n",
       "      <th>31</th>\n",
       "      <td>2021-11-01</td>\n",
       "      <td>DDI</td>\n",
       "      <td>F29</td>\n",
       "      <td>86348.93</td>\n",
       "      <td>87198.44</td>\n",
       "      <td>849.51</td>\n",
       "      <td>2029-01-01</td>\n",
       "      <td>2029-01-02</td>\n",
       "      <td>2619</td>\n",
       "    </tr>\n",
       "    <tr>\n",
       "      <th>32</th>\n",
       "      <td>2021-11-01</td>\n",
       "      <td>DDI</td>\n",
       "      <td>F30</td>\n",
       "      <td>84188.92</td>\n",
       "      <td>85246.26</td>\n",
       "      <td>1057.34</td>\n",
       "      <td>2030-01-01</td>\n",
       "      <td>2030-01-02</td>\n",
       "      <td>2984</td>\n",
       "    </tr>\n",
       "    <tr>\n",
       "      <th>33</th>\n",
       "      <td>2021-11-01</td>\n",
       "      <td>DDI</td>\n",
       "      <td>F31</td>\n",
       "      <td>82001.99</td>\n",
       "      <td>83049.38</td>\n",
       "      <td>1047.39</td>\n",
       "      <td>2031-01-01</td>\n",
       "      <td>2031-01-02</td>\n",
       "      <td>3349</td>\n",
       "    </tr>\n",
       "    <tr>\n",
       "      <th>34</th>\n",
       "      <td>2021-11-01</td>\n",
       "      <td>DDI</td>\n",
       "      <td>F33</td>\n",
       "      <td>76893.80</td>\n",
       "      <td>77966.07</td>\n",
       "      <td>1072.27</td>\n",
       "      <td>2033-01-01</td>\n",
       "      <td>2033-01-03</td>\n",
       "      <td>4081</td>\n",
       "    </tr>\n",
       "    <tr>\n",
       "      <th>35</th>\n",
       "      <td>2021-11-01</td>\n",
       "      <td>DDI</td>\n",
       "      <td>F35</td>\n",
       "      <td>71822.63</td>\n",
       "      <td>72930.33</td>\n",
       "      <td>1107.70</td>\n",
       "      <td>2035-01-01</td>\n",
       "      <td>2035-01-02</td>\n",
       "      <td>4810</td>\n",
       "    </tr>\n",
       "    <tr>\n",
       "      <th>36</th>\n",
       "      <td>2021-11-01</td>\n",
       "      <td>DDI</td>\n",
       "      <td>F36</td>\n",
       "      <td>69282.50</td>\n",
       "      <td>70363.69</td>\n",
       "      <td>1081.19</td>\n",
       "      <td>2036-01-01</td>\n",
       "      <td>2036-01-02</td>\n",
       "      <td>5175</td>\n",
       "    </tr>\n",
       "    <tr>\n",
       "      <th>37</th>\n",
       "      <td>2021-11-01</td>\n",
       "      <td>DDI</td>\n",
       "      <td>F37</td>\n",
       "      <td>66234.46</td>\n",
       "      <td>67270.73</td>\n",
       "      <td>1036.27</td>\n",
       "      <td>2037-01-01</td>\n",
       "      <td>2037-01-02</td>\n",
       "      <td>5541</td>\n",
       "    </tr>\n",
       "  </tbody>\n",
       "</table>\n",
       "</div>"
      ],
      "text/plain": [
       "       DataRef Mercadoria CDVencimento  PUAnterior    PUAtual  Variacao  \\\n",
       "0   2021-11-01        DDI          Z21    99387.51  100428.16   1040.65   \n",
       "1   2021-11-01        DDI          F22    99313.85  100357.40   1043.55   \n",
       "2   2021-11-01        DDI          G22    99269.65  100310.70   1041.05   \n",
       "3   2021-11-01        DDI          H22    99206.95  100248.33   1041.38   \n",
       "4   2021-11-01        DDI          J22    99127.65  100168.90   1041.25   \n",
       "5   2021-11-01        DDI          K22    99053.14  100094.12   1040.98   \n",
       "6   2021-11-01        DDI          M22    98961.99   99993.52   1031.53   \n",
       "7   2021-11-01        DDI          N22    98921.32   99951.62   1030.30   \n",
       "8   2021-11-01        DDI          Q22    98774.23   99794.91   1020.68   \n",
       "9   2021-11-01        DDI          U22    98658.94   99676.78   1017.84   \n",
       "10  2021-11-01        DDI          V22    98532.99   99548.45   1015.46   \n",
       "11  2021-11-01        DDI          X22    98407.45   99419.39   1011.94   \n",
       "12  2021-11-01        DDI          Z22    98271.09   99281.04   1009.95   \n",
       "13  2021-11-01        DDI          F23    98131.84   99138.07   1006.23   \n",
       "14  2021-11-01        DDI          J23    97719.06   98728.57   1009.51   \n",
       "15  2021-11-01        DDI          N23    97321.13   98387.21   1066.08   \n",
       "16  2021-11-01        DDI          V23    96811.74   97823.96   1012.22   \n",
       "17  2021-11-01        DDI          F24    96348.47   97298.60    950.13   \n",
       "18  2021-11-01        DDI          J24    95891.87   96830.54    938.67   \n",
       "19  2021-11-01        DDI          N24    95412.70   96316.44    903.74   \n",
       "20  2021-11-01        DDI          V24    94860.29   95721.22    860.93   \n",
       "21  2021-11-01        DDI          F25    94333.25   95151.82    818.57   \n",
       "22  2021-11-01        DDI          J25    93806.32   94605.98    799.66   \n",
       "23  2021-11-01        DDI          N25    93349.45   94136.13    786.68   \n",
       "24  2021-11-01        DDI          V25    92852.42   93653.47    801.05   \n",
       "25  2021-11-01        DDI          F26    92339.55   93128.87    789.32   \n",
       "26  2021-11-01        DDI          J26    91916.14   92690.98    774.84   \n",
       "27  2021-11-01        DDI          N26    91400.18   92161.19    761.01   \n",
       "28  2021-11-01        DDI          V26    90959.74   91705.42    745.68   \n",
       "29  2021-11-01        DDI          F27    90419.84   91151.68    731.84   \n",
       "30  2021-11-01        DDI          F28    88407.09   89139.17    732.08   \n",
       "31  2021-11-01        DDI          F29    86348.93   87198.44    849.51   \n",
       "32  2021-11-01        DDI          F30    84188.92   85246.26   1057.34   \n",
       "33  2021-11-01        DDI          F31    82001.99   83049.38   1047.39   \n",
       "34  2021-11-01        DDI          F33    76893.80   77966.07   1072.27   \n",
       "35  2021-11-01        DDI          F35    71822.63   72930.33   1107.70   \n",
       "36  2021-11-01        DDI          F36    69282.50   70363.69   1081.19   \n",
       "37  2021-11-01        DDI          F37    66234.46   67270.73   1036.27   \n",
       "\n",
       "   Vencimento    Maturity    DC  \n",
       "0  2021-12-01  2021-12-01    30  \n",
       "1  2022-01-01  2022-01-03    63  \n",
       "2  2022-02-01  2022-02-01    92  \n",
       "3  2022-03-01  2022-03-02   121  \n",
       "4  2022-04-01  2022-04-01   151  \n",
       "5  2022-05-01  2022-05-02   182  \n",
       "6  2022-06-01  2022-06-01   212  \n",
       "7  2022-07-01  2022-07-01   242  \n",
       "8  2022-08-01  2022-08-01   273  \n",
       "9  2022-09-01  2022-09-01   304  \n",
       "10 2022-10-01  2022-10-03   336  \n",
       "11 2022-11-01  2022-11-01   365  \n",
       "12 2022-12-01  2022-12-01   395  \n",
       "13 2023-01-01  2023-01-02   427  \n",
       "14 2023-04-01  2023-04-03   518  \n",
       "15 2023-07-01  2023-07-03   609  \n",
       "16 2023-10-01  2023-10-02   700  \n",
       "17 2024-01-01  2024-01-02   792  \n",
       "18 2024-04-01  2024-04-01   882  \n",
       "19 2024-07-01  2024-07-01   973  \n",
       "20 2024-10-01  2024-10-01  1065  \n",
       "21 2025-01-01  2025-01-02  1158  \n",
       "22 2025-04-01  2025-04-01  1247  \n",
       "23 2025-07-01  2025-07-01  1338  \n",
       "24 2025-10-01  2025-10-01  1430  \n",
       "25 2026-01-01  2026-01-02  1523  \n",
       "26 2026-04-01  2026-04-01  1612  \n",
       "27 2026-07-01  2026-07-01  1703  \n",
       "28 2026-10-01  2026-10-01  1795  \n",
       "29 2027-01-01  2027-01-04  1890  \n",
       "30 2028-01-01  2028-01-03  2254  \n",
       "31 2029-01-01  2029-01-02  2619  \n",
       "32 2030-01-01  2030-01-02  2984  \n",
       "33 2031-01-01  2031-01-02  3349  \n",
       "34 2033-01-01  2033-01-03  4081  \n",
       "35 2035-01-01  2035-01-02  4810  \n",
       "36 2036-01-01  2036-01-02  5175  \n",
       "37 2037-01-01  2037-01-02  5541  "
      ]
     },
     "execution_count": 15,
     "metadata": {},
     "output_type": "execute_result"
    }
   ],
   "source": [
    "ddi['Maturity'] = ddi['Vencimento'].map(MARKET_CALENDAR.following)\n",
    "ddi['DC'] = list(ACTUAL_CALENDAR.vec.bizdays(ddi['DataRef'], ddi['Maturity']))\n",
    "ddi = ddi[ddi['DC'] > 0].reset_index(drop=True)\n",
    "ddi"
   ]
  },
  {
   "cell_type": "markdown",
   "id": "furnished-utility",
   "metadata": {
    "slideshow": {
     "slide_type": "slide"
    }
   },
   "source": [
    "$$\n",
    "c(t,T) = \\left( \\frac{100000}{PU_{DDI}(t,T)} - 1 \\right) \\cdot \\frac{360}{DC(t,T)}\n",
    "$$"
   ]
  },
  {
   "cell_type": "code",
   "execution_count": 16,
   "id": "impressive-uniform",
   "metadata": {},
   "outputs": [],
   "source": [
    "ddi['Rate'] = (100000 / ddi['PUAtual'] - 1)*(360 / ddi['DC'])\n",
    "ddi_curve = ddi[['DataRef', 'Maturity', 'DC', 'Rate']]"
   ]
  },
  {
   "cell_type": "code",
   "execution_count": 17,
   "id": "reserved-tattoo",
   "metadata": {},
   "outputs": [
    {
     "data": {
      "image/png": "[encoded data removed]",
      "text/plain": [
       "<Figure size 1440x432 with 1 Axes>"
      ]
     },
     "metadata": {
      "needs_background": "light"
     },
     "output_type": "display_data"
    }
   ],
   "source": [
    "ddi_curve.plot(x='Maturity', y='Rate', figsize=(20,6), style='-o',\n",
    "               ylabel='Rate', xlabel='Date', title='DDI Curve - 2021-11-01')\n",
    "plt.axhline(y=0, ls='--', color='grey')\n",
    "plt.show()"
   ]
  },
  {
   "cell_type": "markdown",
   "id": "retained-encounter",
   "metadata": {
    "slideshow": {
     "slide_type": "slide"
    }
   },
   "source": [
    "- The curve starts with the first future, which matures in December."
   ]
  },
  {
   "cell_type": "code",
   "execution_count": 18,
   "id": "continued-final",
   "metadata": {
    "slideshow": {
     "slide_type": "-"
    }
   },
   "outputs": [
    {
     "data": {
      "text/html": [
       "<div>\n",
       "<style scoped>\n",
       "    .dataframe tbody tr th:only-of-type {\n",
       "        vertical-align: middle;\n",
       "    }\n",
       "\n",
       "    .dataframe tbody tr th {\n",
       "        vertical-align: top;\n",
       "    }\n",
       "\n",
       "    .dataframe thead th {\n",
       "        text-align: right;\n",
       "    }\n",
       "</style>\n",
       "<table border=\"1\" class=\"dataframe\">\n",
       "  <thead>\n",
       "    <tr style=\"text-align: right;\">\n",
       "      <th></th>\n",
       "      <th>DataRef</th>\n",
       "      <th>Maturity</th>\n",
       "      <th>DC</th>\n",
       "      <th>Rate</th>\n",
       "    </tr>\n",
       "  </thead>\n",
       "  <tbody>\n",
       "    <tr>\n",
       "      <th>0</th>\n",
       "      <td>2021-11-01</td>\n",
       "      <td>2021-12-01</td>\n",
       "      <td>30</td>\n",
       "      <td>-0.05116</td>\n",
       "    </tr>\n",
       "    <tr>\n",
       "      <th>1</th>\n",
       "      <td>2021-11-01</td>\n",
       "      <td>2022-01-03</td>\n",
       "      <td>63</td>\n",
       "      <td>-0.02035</td>\n",
       "    </tr>\n",
       "    <tr>\n",
       "      <th>2</th>\n",
       "      <td>2021-11-01</td>\n",
       "      <td>2022-02-01</td>\n",
       "      <td>92</td>\n",
       "      <td>-0.01212</td>\n",
       "    </tr>\n",
       "    <tr>\n",
       "      <th>3</th>\n",
       "      <td>2021-11-01</td>\n",
       "      <td>2022-03-02</td>\n",
       "      <td>121</td>\n",
       "      <td>-0.00737</td>\n",
       "    </tr>\n",
       "    <tr>\n",
       "      <th>4</th>\n",
       "      <td>2021-11-01</td>\n",
       "      <td>2022-04-01</td>\n",
       "      <td>151</td>\n",
       "      <td>-0.00402</td>\n",
       "    </tr>\n",
       "  </tbody>\n",
       "</table>\n",
       "</div>"
      ],
      "text/plain": [
       "      DataRef    Maturity   DC     Rate\n",
       "0  2021-11-01  2021-12-01   30 -0.05116\n",
       "1  2021-11-01  2022-01-03   63 -0.02035\n",
       "2  2021-11-01  2022-02-01   92 -0.01212\n",
       "3  2021-11-01  2022-03-02  121 -0.00737\n",
       "4  2021-11-01  2022-04-01  151 -0.00402"
      ]
     },
     "execution_count": 18,
     "metadata": {},
     "output_type": "execute_result"
    }
   ],
   "source": [
    "ddi_curve.head()"
   ]
  },
  {
   "cell_type": "markdown",
   "id": "spiritual-colonial",
   "metadata": {},
   "source": [
    "- We must complete the curve with the first point for one business day"
   ]
  },
  {
   "cell_type": "markdown",
   "id": "handed-azerbaijan",
   "metadata": {
    "slideshow": {
     "slide_type": "slide"
    }
   },
   "source": [
    "### Completing the curve with the first point (the anchor)\n",
    "\n",
    "- Calculate the CUPOM CAMBIAL for one business day ahead\n",
    "\n",
    "$$\n",
    "1 + c(t,t+1) \\cdot \\frac{DC(t,t+1)}{360} = \\frac{(1 + CDI_t)^{DU(t,t+1)/252}}{\\frac{PTAX_{t}}{PTAX_{t-1}}}\n",
    "$$\n",
    "\n",
    "- $t$ is the current day, the present\n",
    "- $t+1$ is one business day ahead and $t-1$ reffers to the previous business day\n",
    "- $DU(t,t+1) = 1$"
   ]
  },
  {
   "cell_type": "code",
   "execution_count": 19,
   "id": "personal-action",
   "metadata": {},
   "outputs": [
    {
     "data": {
      "text/html": [
       "<div>\n",
       "<style scoped>\n",
       "    .dataframe tbody tr th:only-of-type {\n",
       "        vertical-align: middle;\n",
       "    }\n",
       "\n",
       "    .dataframe tbody tr th {\n",
       "        vertical-align: top;\n",
       "    }\n",
       "\n",
       "    .dataframe thead th {\n",
       "        text-align: right;\n",
       "    }\n",
       "</style>\n",
       "<table border=\"1\" class=\"dataframe\">\n",
       "  <thead>\n",
       "    <tr style=\"text-align: right;\">\n",
       "      <th></th>\n",
       "      <th>PTAX</th>\n",
       "    </tr>\n",
       "    <tr>\n",
       "      <th>date</th>\n",
       "      <th></th>\n",
       "    </tr>\n",
       "  </thead>\n",
       "  <tbody>\n",
       "    <tr>\n",
       "      <th>2021-10-29</th>\n",
       "      <td>5.6430</td>\n",
       "    </tr>\n",
       "    <tr>\n",
       "      <th>2021-11-01</th>\n",
       "      <td>5.6694</td>\n",
       "    </tr>\n",
       "  </tbody>\n",
       "</table>\n",
       "</div>"
      ],
      "text/plain": [
       "              PTAX\n",
       "date              \n",
       "2021-10-29  5.6430\n",
       "2021-11-01  5.6694"
      ]
     },
     "execution_count": 19,
     "metadata": {},
     "output_type": "execute_result"
    }
   ],
   "source": [
    "PTAX"
   ]
  },
  {
   "cell_type": "code",
   "execution_count": 20,
   "id": "average-vegetarian",
   "metadata": {},
   "outputs": [
    {
     "data": {
      "text/html": [
       "<div>\n",
       "<style scoped>\n",
       "    .dataframe tbody tr th:only-of-type {\n",
       "        vertical-align: middle;\n",
       "    }\n",
       "\n",
       "    .dataframe tbody tr th {\n",
       "        vertical-align: top;\n",
       "    }\n",
       "\n",
       "    .dataframe thead th {\n",
       "        text-align: right;\n",
       "    }\n",
       "</style>\n",
       "<table border=\"1\" class=\"dataframe\">\n",
       "  <thead>\n",
       "    <tr style=\"text-align: right;\">\n",
       "      <th></th>\n",
       "      <th>CDI</th>\n",
       "    </tr>\n",
       "    <tr>\n",
       "      <th>date</th>\n",
       "      <th></th>\n",
       "    </tr>\n",
       "  </thead>\n",
       "  <tbody>\n",
       "    <tr>\n",
       "      <th>2021-11-01</th>\n",
       "      <td>7.65</td>\n",
       "    </tr>\n",
       "  </tbody>\n",
       "</table>\n",
       "</div>"
      ],
      "text/plain": [
       "             CDI\n",
       "date            \n",
       "2021-11-01  7.65"
      ]
     },
     "execution_count": 20,
     "metadata": {},
     "output_type": "execute_result"
    }
   ],
   "source": [
    "CDI = sgs.get(('CDI', 4389), start_date='2021-11-01', end_date='2021-11-01')\n",
    "CDI"
   ]
  },
  {
   "cell_type": "markdown",
   "id": "bearing-matter",
   "metadata": {
    "slideshow": {
     "slide_type": "slide"
    }
   },
   "source": [
    "$$\n",
    "c(t,t+1) = \\left( \\frac{(1 + CDI_t)^{1/252}}{\\frac{PTAX_{t}}{PTAX_{t-1}}} - 1 \\right)\\frac{360}{DC(t,t+1)}\n",
    "$$"
   ]
  },
  {
   "cell_type": "code",
   "execution_count": 21,
   "id": "difficult-plane",
   "metadata": {},
   "outputs": [],
   "source": [
    "cdi = CDI.values[0,0]\n",
    "ptax_0 = PTAX.values[1,0] # PTAX(t) for the current business day\n",
    "ptax_1 = PTAX.values[0,0] # PTAX(t-1) for the previous business day\n",
    "DC = 2 # total number of days between the reference date and one business day ahead\n",
    "\n",
    "first_term = pd.DataFrame({\n",
    "    'DataRef': datetime.datetime(2021,11,1).date(),\n",
    "    'Maturity': datetime.datetime(2021,11,3).date(),\n",
    "    'DC': [DC],\n",
    "    'Rate': [(((1 + cdi/100)**(1/252)) / (ptax_0/ptax_1) - 1) * 360/DC]\n",
    "})"
   ]
  },
  {
   "cell_type": "code",
   "execution_count": 22,
   "id": "metropolitan-internship",
   "metadata": {
    "slideshow": {
     "slide_type": "slide"
    }
   },
   "outputs": [],
   "source": [
    "ddi_curve = pd.concat([first_term, ddi_curve], axis=0).reset_index(drop=True)"
   ]
  },
  {
   "cell_type": "code",
   "execution_count": 23,
   "id": "perfect-landing",
   "metadata": {
    "scrolled": true
   },
   "outputs": [
    {
     "data": {
      "image/png": "[encoded data removed]",
      "text/plain": [
       "<Figure size 1440x432 with 1 Axes>"
      ]
     },
     "metadata": {
      "needs_background": "light"
     },
     "output_type": "display_data"
    }
   ],
   "source": [
    "ddi_curve.plot(x='Maturity', y='Rate', figsize=(20,6), style='-o',\n",
    "               ylabel='Rate', xlabel='Date', title='DDI Curve - 2021-11-01')\n",
    "plt.axhline(y=0, ls='--', color='grey')\n",
    "plt.show()"
   ]
  },
  {
   "cell_type": "markdown",
   "id": "proprietary-membrane",
   "metadata": {},
   "source": [
    "- This is the DDI Dirty Curve (Curva de CUPOM CAMBIAL SUJA)"
   ]
  },
  {
   "cell_type": "code",
   "execution_count": 24,
   "id": "motivated-holder",
   "metadata": {
    "slideshow": {
     "slide_type": "skip"
    }
   },
   "outputs": [
    {
     "data": {
      "image/png": "[encoded data removed]",
      "text/plain": [
       "<Figure size 1080x432 with 1 Axes>"
      ]
     },
     "metadata": {
      "needs_background": "light"
     },
     "output_type": "display_data"
    }
   ],
   "source": [
    "ddi_hist = df[(df['Mercadoria'] == 'DDI') & (df['PUAtual'] != 100000.0)].copy()\n",
    "ddi_hist['VencimentoAdj'] = ddi_hist['Vencimento'].map(MARKET_CALENDAR.following)\n",
    "ddi_hist['DU'] = list(MARKET_CALENDAR.vec.bizdays(ddi_hist['DataRef'], ddi_hist['VencimentoAdj']))\n",
    "ddi_hist['DC'] = list(ACTUAL_CALENDAR.vec.bizdays(ddi_hist['DataRef'], ddi_hist['VencimentoAdj']))\n",
    "ddi_hist['Taxa'] = (100000 / ddi_hist['PUAtual'] - 1)/(ddi_hist['DC'] / 360)\n",
    "ddi_hist_first = ddi_hist.groupby('DataRef').apply(lambda x: x.sort_values('DU').iloc[0])\n",
    "ddi_hist_m1 = ddi_hist_first.set_index('DataRef')['Taxa']\n",
    "ddi_hist_second = ddi_hist.groupby('DataRef').apply(lambda x: x.sort_values('DU').iloc[1])\n",
    "ddi_hist_m2 = ddi_hist_second.set_index('DataRef')['Taxa']\n",
    "ddi_hist_x = pd.concat((ddi_hist_m1, ddi_hist_m2), axis=1)\n",
    "ddi_hist_x.columns = ('First maturity', 'Second maturity')\n",
    "ddi_hist_x.plot(figsize=(15,6));"
   ]
  },
  {
   "cell_type": "markdown",
   "id": "first-river",
   "metadata": {
    "slideshow": {
     "slide_type": "slide"
    }
   },
   "source": [
    "### Why DIRTY CUPOM CAMBIAL?\n",
    "\n",
    "#### Variability of CUPOM CAMBIAL\n",
    "\n",
    "![](images/cupom-sujo-primeiro-vencimento-historico.png)"
   ]
  },
  {
   "cell_type": "markdown",
   "id": "chemical-complaint",
   "metadata": {
    "slideshow": {
     "slide_type": "slide"
    }
   },
   "source": [
    "### Why DIRTY CUPOM CAMBIAL?\n",
    "\n",
    "$$\n",
    "\\frac{PTAX_{t}}{PTAX_{t-1}} = \\frac{(1 + CDI_t)^{DU(t,t+1)/252}}{1 + c(t,t+1) \\cdot \\frac{DC(t,t+1)}{360}}\n",
    "$$\n",
    "\n",
    "- What does happen when it goes from $t \\rightarrow T$?\n",
    "\n",
    "$$\n",
    "\\frac{PTAX_{T-1}}{PTAX_{t-1}} = \\frac{(1 + CDI(t,T))^{DU(t,T)/252}}{1 + c(t,T) \\cdot \\frac{DC(t,T)}{360}}\n",
    "$$\n",
    "\n",
    "- The residual effect of the *shift* in the exchange rate goes to the only available parameter, that is $c(\\cdot)$.\n",
    "\n",
    "#### Solution\n",
    "\n",
    "- **Dólar CUPOM LIMPO**"
   ]
  },
  {
   "cell_type": "markdown",
   "id": "motivated-consortium",
   "metadata": {
    "slideshow": {
     "slide_type": "slide"
    }
   },
   "source": [
    "### Dólar Cupom Limpo\n",
    "\n",
    "- Dólar Cupom Limpo *cleans* the DDI curve removing the effect of the 1-day dollar return.\n",
    "- Dólar Cupom Limpo is obtained from Casado de Dólar.\n",
    "    - Casado de Dólar is an strututured product\n",
    "- Dólar Cupom Limpo is a U.S. Dollar exhange rate traded in the market with settlement in two business days (d+2).\n",
    "\n",
    "$$\n",
    "PTAX_{t} = PTAX_{t-1} \\frac{(1 + CDI_t)^{DU(t,t+1)/252}}{1 + CS(t,t+1) \\cdot \\frac{DC(t,t+1)}{360}}\n",
    "$$\n",
    "\n",
    "and\n",
    "\n",
    "$$\n",
    "PTAX_{t} = DOCL_{t} \\frac{(1 + CDI_t)^{DU(t,t+1)/252}}{1 + CL(t,t+1) \\cdot \\frac{DC(t,t+1)}{360}}\n",
    "$$\n",
    "\n",
    "where\n",
    "\n",
    "- $CS(t,t+1)$ stands for CUPOM SUJO\n",
    "- $CL(t,t+1)$ stands for CUPOM LIMPO"
   ]
  },
  {
   "cell_type": "markdown",
   "id": "enormous-clear",
   "metadata": {
    "slideshow": {
     "slide_type": "slide"
    }
   },
   "source": [
    "$$\n",
    "\\frac{DOCL_{t}}{1 + CL(t,t+1) \\cdot \\frac{DC(t,t+1)}{360}} = \\frac{PTAX_{t-1}}{1 + CS(t,t+1) \\cdot \\frac{DC(t,t+1)}{360}}\n",
    "$$\n"
   ]
  },
  {
   "cell_type": "markdown",
   "id": "mobile-hollow",
   "metadata": {
    "slideshow": {
     "slide_type": "-"
    }
   },
   "source": [
    "\n",
    "- B3 informs daily\n",
    "\n",
    "![](images/dolar-cupom-limpo-casado.png)"
   ]
  },
  {
   "cell_type": "markdown",
   "id": "together-surge",
   "metadata": {
    "slideshow": {
     "slide_type": "slide"
    }
   },
   "source": [
    "## Forward Rate Agreement on DI x U.S. Dollar Spread - FRC\n",
    "\n",
    "- This future trades the forward DI x U.S. Dollar Spread Rate from the expiration date of the short DI x U.S. Dollar Spread Futures (short leg - first maturity) to the expiration date of long DI x U.S. Dollar Spread Futures (long leg).\n",
    "- This future is called **FRC** Future.\n",
    "- Since two contracts are traded, the quotation is defined in terms of the forward rate\n",
    "\n",
    "$$\n",
    "1 + c_{FRC}(T_s, T_l) \\cdot \\frac{DC(t,T_l)-DC(t,T_s)}{360} = \\frac{1 + c(t, T_l) \\cdot \\frac{DC(t,T_l)}{360}}{1 + c(t, T_s) \\cdot \\frac{DC(t,T_s)}{360}}\n",
    "$$\n"
   ]
  },
  {
   "cell_type": "code",
   "execution_count": 25,
   "id": "composed-passenger",
   "metadata": {
    "slideshow": {
     "slide_type": "slide"
    }
   },
   "outputs": [],
   "source": [
    "frc = df[(df['Mercadoria'] == 'FRC') &\n",
    "         (df['DataRef'] == pd.to_datetime('2021-11-01'))].copy()"
   ]
  },
  {
   "cell_type": "code",
   "execution_count": 26,
   "id": "exposed-diamond",
   "metadata": {
    "slideshow": {
     "slide_type": "-"
    }
   },
   "outputs": [],
   "source": [
    "frc['Maturity'] = frc['Vencimento'].map(MARKET_CALENDAR.following)\n",
    "frc['DU'] = frc.apply(lambda x: MARKET_CALENDAR.bizdays(x['DataRef'], x['Maturity']), axis=1)\n",
    "frc['DC'] = frc.apply(lambda x: ACTUAL_CALENDAR.bizdays(x['DataRef'], x['Maturity']), axis=1)\n",
    "frc = frc[frc['DU'] > 0].reset_index(drop=True)"
   ]
  },
  {
   "cell_type": "code",
   "execution_count": 27,
   "id": "voluntary-fairy",
   "metadata": {},
   "outputs": [
    {
     "data": {
      "text/html": [
       "<div>\n",
       "<style scoped>\n",
       "    .dataframe tbody tr th:only-of-type {\n",
       "        vertical-align: middle;\n",
       "    }\n",
       "\n",
       "    .dataframe tbody tr th {\n",
       "        vertical-align: top;\n",
       "    }\n",
       "\n",
       "    .dataframe thead th {\n",
       "        text-align: right;\n",
       "    }\n",
       "</style>\n",
       "<table border=\"1\" class=\"dataframe\">\n",
       "  <thead>\n",
       "    <tr style=\"text-align: right;\">\n",
       "      <th></th>\n",
       "      <th>DataRef</th>\n",
       "      <th>Mercadoria</th>\n",
       "      <th>CDVencimento</th>\n",
       "      <th>PUAnterior</th>\n",
       "      <th>PUAtual</th>\n",
       "      <th>Variacao</th>\n",
       "      <th>Vencimento</th>\n",
       "      <th>Maturity</th>\n",
       "      <th>DU</th>\n",
       "      <th>DC</th>\n",
       "    </tr>\n",
       "  </thead>\n",
       "  <tbody>\n",
       "    <tr>\n",
       "      <th>0</th>\n",
       "      <td>2021-11-01</td>\n",
       "      <td>FRC</td>\n",
       "      <td>F22</td>\n",
       "      <td>0.81</td>\n",
       "      <td>0.77</td>\n",
       "      <td>-0.04</td>\n",
       "      <td>2022-01-01</td>\n",
       "      <td>2022-01-03</td>\n",
       "      <td>43</td>\n",
       "      <td>63</td>\n",
       "    </tr>\n",
       "    <tr>\n",
       "      <th>1</th>\n",
       "      <td>2021-11-01</td>\n",
       "      <td>FRC</td>\n",
       "      <td>G22</td>\n",
       "      <td>0.69</td>\n",
       "      <td>0.68</td>\n",
       "      <td>-0.01</td>\n",
       "      <td>2022-02-01</td>\n",
       "      <td>2022-02-01</td>\n",
       "      <td>64</td>\n",
       "      <td>92</td>\n",
       "    </tr>\n",
       "    <tr>\n",
       "      <th>2</th>\n",
       "      <td>2021-11-01</td>\n",
       "      <td>FRC</td>\n",
       "      <td>H22</td>\n",
       "      <td>0.72</td>\n",
       "      <td>0.71</td>\n",
       "      <td>-0.01</td>\n",
       "      <td>2022-03-01</td>\n",
       "      <td>2022-03-02</td>\n",
       "      <td>83</td>\n",
       "      <td>121</td>\n",
       "    </tr>\n",
       "    <tr>\n",
       "      <th>3</th>\n",
       "      <td>2021-11-01</td>\n",
       "      <td>FRC</td>\n",
       "      <td>J22</td>\n",
       "      <td>0.78</td>\n",
       "      <td>0.77</td>\n",
       "      <td>-0.01</td>\n",
       "      <td>2022-04-01</td>\n",
       "      <td>2022-04-01</td>\n",
       "      <td>105</td>\n",
       "      <td>151</td>\n",
       "    </tr>\n",
       "    <tr>\n",
       "      <th>4</th>\n",
       "      <td>2021-11-01</td>\n",
       "      <td>FRC</td>\n",
       "      <td>K22</td>\n",
       "      <td>0.80</td>\n",
       "      <td>0.79</td>\n",
       "      <td>-0.01</td>\n",
       "      <td>2022-05-01</td>\n",
       "      <td>2022-05-02</td>\n",
       "      <td>124</td>\n",
       "      <td>182</td>\n",
       "    </tr>\n",
       "  </tbody>\n",
       "</table>\n",
       "</div>"
      ],
      "text/plain": [
       "      DataRef Mercadoria CDVencimento  PUAnterior  PUAtual  Variacao  \\\n",
       "0  2021-11-01        FRC          F22        0.81     0.77     -0.04   \n",
       "1  2021-11-01        FRC          G22        0.69     0.68     -0.01   \n",
       "2  2021-11-01        FRC          H22        0.72     0.71     -0.01   \n",
       "3  2021-11-01        FRC          J22        0.78     0.77     -0.01   \n",
       "4  2021-11-01        FRC          K22        0.80     0.79     -0.01   \n",
       "\n",
       "  Vencimento    Maturity   DU   DC  \n",
       "0 2022-01-01  2022-01-03   43   63  \n",
       "1 2022-02-01  2022-02-01   64   92  \n",
       "2 2022-03-01  2022-03-02   83  121  \n",
       "3 2022-04-01  2022-04-01  105  151  \n",
       "4 2022-05-01  2022-05-02  124  182  "
      ]
     },
     "execution_count": 27,
     "metadata": {},
     "output_type": "execute_result"
    }
   ],
   "source": [
    "frc.head()"
   ]
  },
  {
   "cell_type": "markdown",
   "id": "limited-orientation",
   "metadata": {
    "slideshow": {
     "slide_type": "slide"
    }
   },
   "source": [
    "- Let's use Dólar CUPOM LIMPO with the first future to build the term structure for CUPOM CAMBIAL LIMPO"
   ]
  },
  {
   "cell_type": "markdown",
   "id": "unexpected-sending",
   "metadata": {},
   "source": [
    "$$\n",
    "\\left( 1 + CL(t, T_s) \\cdot \\frac{DC(t,T_s)}{360} \\right)  \\left( 1 + c_{FRC}(T_s, T_l) \\cdot \\frac{DC(t,T_l)-DC(t,T_s)}{360}\\right) =  1 + c(t, T_l) \\cdot \\frac{DC(t,T_l)}{360} \n",
    "$$\n",
    "\n",
    "- considering that\n",
    "\n",
    "$$\n",
    "1 + CL(t,T_s) \\cdot \\frac{DC(t,T_s)}{360} = \\frac{DOCL_{t}}{PTAX_{t-1}} \\left(1 + CS(t,T_s) \\cdot \\frac{DC(t,T_s)}{360} \\right)\n",
    "$$\n"
   ]
  },
  {
   "cell_type": "code",
   "execution_count": 28,
   "id": "canadian-render",
   "metadata": {},
   "outputs": [],
   "source": [
    "dol_cl = 5.6699\n",
    "ptax_1 = PTAX.values[0,0] # PTAX(t-1) for the previous business day\n",
    "cs = ddi_curve['Rate'].iloc[1] # CUPOM CAMBIAL SUJO for the first future\n",
    "dc = ddi_curve['DC'].iloc[1]\n",
    "\n",
    "_f_cl = (dol_cl/ptax_1) * (1 + cs*dc/360)"
   ]
  },
  {
   "cell_type": "markdown",
   "id": "widespread-sellers",
   "metadata": {
    "slideshow": {
     "slide_type": "subslide"
    }
   },
   "source": [
    "\n",
    "- B3 informs daily\n",
    "\n",
    "![](images/dolar-cupom-limpo-casado.png)"
   ]
  },
  {
   "cell_type": "markdown",
   "id": "junior-tulsa",
   "metadata": {
    "slideshow": {
     "slide_type": "slide"
    }
   },
   "source": [
    "$$\n",
    "CL(t,T_l) = \\left[ \\left( 1 + CL(t, T_s) \\frac{DC(t,T_s)}{360} \\right) \\left( 1 + c_{FRC}(T_s, T_l) \\frac{DC(t,T_l)-DC(t,T_s)}{360}\\right) - 1\\right]\\frac{360}{DC(t,T_l)}\n",
    "$$\n"
   ]
  },
  {
   "cell_type": "code",
   "execution_count": 29,
   "id": "floral-strike",
   "metadata": {},
   "outputs": [
    {
     "data": {
      "text/html": [
       "<div>\n",
       "<style scoped>\n",
       "    .dataframe tbody tr th:only-of-type {\n",
       "        vertical-align: middle;\n",
       "    }\n",
       "\n",
       "    .dataframe tbody tr th {\n",
       "        vertical-align: top;\n",
       "    }\n",
       "\n",
       "    .dataframe thead th {\n",
       "        text-align: right;\n",
       "    }\n",
       "</style>\n",
       "<table border=\"1\" class=\"dataframe\">\n",
       "  <thead>\n",
       "    <tr style=\"text-align: right;\">\n",
       "      <th></th>\n",
       "      <th>DataRef</th>\n",
       "      <th>Mercadoria</th>\n",
       "      <th>CDVencimento</th>\n",
       "      <th>PUAnterior</th>\n",
       "      <th>PUAtual</th>\n",
       "      <th>Variacao</th>\n",
       "      <th>Vencimento</th>\n",
       "      <th>Maturity</th>\n",
       "      <th>DU</th>\n",
       "      <th>DC</th>\n",
       "      <th>Rate</th>\n",
       "    </tr>\n",
       "  </thead>\n",
       "  <tbody>\n",
       "    <tr>\n",
       "      <th>0</th>\n",
       "      <td>2021-11-01</td>\n",
       "      <td>FRC</td>\n",
       "      <td>F22</td>\n",
       "      <td>0.81</td>\n",
       "      <td>0.77</td>\n",
       "      <td>-0.04</td>\n",
       "      <td>2022-01-01</td>\n",
       "      <td>2022-01-03</td>\n",
       "      <td>43</td>\n",
       "      <td>63</td>\n",
       "      <td>0.006797</td>\n",
       "    </tr>\n",
       "    <tr>\n",
       "      <th>1</th>\n",
       "      <td>2021-11-01</td>\n",
       "      <td>FRC</td>\n",
       "      <td>G22</td>\n",
       "      <td>0.69</td>\n",
       "      <td>0.68</td>\n",
       "      <td>-0.01</td>\n",
       "      <td>2022-02-01</td>\n",
       "      <td>2022-02-01</td>\n",
       "      <td>64</td>\n",
       "      <td>92</td>\n",
       "      <td>0.006476</td>\n",
       "    </tr>\n",
       "    <tr>\n",
       "      <th>2</th>\n",
       "      <td>2021-11-01</td>\n",
       "      <td>FRC</td>\n",
       "      <td>H22</td>\n",
       "      <td>0.72</td>\n",
       "      <td>0.71</td>\n",
       "      <td>-0.01</td>\n",
       "      <td>2022-03-01</td>\n",
       "      <td>2022-03-02</td>\n",
       "      <td>83</td>\n",
       "      <td>121</td>\n",
       "      <td>0.006780</td>\n",
       "    </tr>\n",
       "    <tr>\n",
       "      <th>3</th>\n",
       "      <td>2021-11-01</td>\n",
       "      <td>FRC</td>\n",
       "      <td>J22</td>\n",
       "      <td>0.78</td>\n",
       "      <td>0.77</td>\n",
       "      <td>-0.01</td>\n",
       "      <td>2022-04-01</td>\n",
       "      <td>2022-04-01</td>\n",
       "      <td>105</td>\n",
       "      <td>151</td>\n",
       "      <td>0.007325</td>\n",
       "    </tr>\n",
       "    <tr>\n",
       "      <th>4</th>\n",
       "      <td>2021-11-01</td>\n",
       "      <td>FRC</td>\n",
       "      <td>K22</td>\n",
       "      <td>0.80</td>\n",
       "      <td>0.79</td>\n",
       "      <td>-0.01</td>\n",
       "      <td>2022-05-01</td>\n",
       "      <td>2022-05-02</td>\n",
       "      <td>124</td>\n",
       "      <td>182</td>\n",
       "      <td>0.007557</td>\n",
       "    </tr>\n",
       "  </tbody>\n",
       "</table>\n",
       "</div>"
      ],
      "text/plain": [
       "      DataRef Mercadoria CDVencimento  PUAnterior  PUAtual  Variacao  \\\n",
       "0  2021-11-01        FRC          F22        0.81     0.77     -0.04   \n",
       "1  2021-11-01        FRC          G22        0.69     0.68     -0.01   \n",
       "2  2021-11-01        FRC          H22        0.72     0.71     -0.01   \n",
       "3  2021-11-01        FRC          J22        0.78     0.77     -0.01   \n",
       "4  2021-11-01        FRC          K22        0.80     0.79     -0.01   \n",
       "\n",
       "  Vencimento    Maturity   DU   DC      Rate  \n",
       "0 2022-01-01  2022-01-03   43   63  0.006797  \n",
       "1 2022-02-01  2022-02-01   64   92  0.006476  \n",
       "2 2022-03-01  2022-03-02   83  121  0.006780  \n",
       "3 2022-04-01  2022-04-01  105  151  0.007325  \n",
       "4 2022-05-01  2022-05-02  124  182  0.007557  "
      ]
     },
     "execution_count": 29,
     "metadata": {},
     "output_type": "execute_result"
    }
   ],
   "source": [
    "_frc = (1 + (frc['PUAtual']/100)*((frc['DC'] - dc)/360))\n",
    "frc['Rate'] = (_f_cl * _frc - 1) * (360/frc['DC'])\n",
    "frc.head()"
   ]
  },
  {
   "cell_type": "code",
   "execution_count": 30,
   "id": "synthetic-syntax",
   "metadata": {
    "slideshow": {
     "slide_type": "slide"
    }
   },
   "outputs": [
    {
     "data": {
      "image/png": "[encoded data removed]",
      "text/plain": [
       "<Figure size 1440x432 with 1 Axes>"
      ]
     },
     "metadata": {
      "needs_background": "light"
     },
     "output_type": "display_data"
    }
   ],
   "source": [
    "frc_curve = frc[['DataRef', 'Maturity', 'DC', 'Rate']].copy()\n",
    "frc_curve.plot(x='Maturity', y='Rate', figsize=(20,6), style='-o',\n",
    "               ylabel='Rate', xlabel='Date', title='FRC Curve - 2021-11-01')\n",
    "plt.show()"
   ]
  }
 ],
 "metadata": {
  "celltoolbar": "Slideshow",
  "kernelspec": {
   "display_name": "Python 3",
   "language": "python",
   "name": "python3"
  },
  "language_info": {
   "codemirror_mode": {
    "name": "ipython",
    "version": 3
   },
   "file_extension": ".py",
   "mimetype": "text/x-python",
   "name": "python",
   "nbconvert_exporter": "python",
   "pygments_lexer": "ipython3",
   "version": "3.7.6"
  }
 },
 "nbformat": 4,
 "nbformat_minor": 5
}
