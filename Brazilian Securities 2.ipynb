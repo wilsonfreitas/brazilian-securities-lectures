{
 "cells": [
  {
   "cell_type": "markdown",
   "id": "recreational-deployment",
   "metadata": {
    "slideshow": {
     "slide_type": "slide"
    }
   },
   "source": [
    "# Brazilian Securities\n",
    "\n",
    "---\n",
    "\n",
    "### Wilson Freitas\n"
   ]
  },
  {
   "cell_type": "markdown",
   "id": "medieval-corporation",
   "metadata": {
    "slideshow": {
     "slide_type": "slide"
    }
   },
   "source": [
    "# Brazilian Securities\n",
    "\n",
    "---\n",
    "\n",
    "### Wilson Freitas\n",
    "\n",
    "# Lecture 2\n",
    "\n",
    "- Flat-forward interpolation with COPOM Meetings\n",
    "- Treasury Direct contracts\n",
    "\t- Floating: LFT\n",
    "\t- Fixed: LTN, NTN-F\n",
    "\t- Indexed: NTN-B, Bullet NTN-B\n",
    "- ANBIMA Data\n",
    "- Bootstrap\n",
    "- Nelson-Siegel coeficients ANBIMA\n",
    "- Implied Inflation"
   ]
  },
  {
   "cell_type": "code",
   "execution_count": 49,
   "id": "alpha-compilation",
   "metadata": {
    "slideshow": {
     "slide_type": "skip"
    }
   },
   "outputs": [
    {
     "name": "stdout",
     "output_type": "stream",
     "text": [
      "The autoreload extension is already loaded. To reload it, use:\n",
      "  %reload_ext autoreload\n"
     ]
    }
   ],
   "source": [
    "%load_ext autoreload\n",
    "%autoreload 2"
   ]
  },
  {
   "cell_type": "code",
   "execution_count": 50,
   "id": "surface-dressing",
   "metadata": {
    "slideshow": {
     "slide_type": "slide"
    }
   },
   "outputs": [],
   "source": [
    "import datetime\n",
    "import pandas as pd\n",
    "import numpy as np\n",
    "import matplotlib.pyplot as plt\n",
    "\n",
    "from bcb import currency, sgs\n",
    "import bizdays\n",
    "\n",
    "import myfuncs as my"
   ]
  },
  {
   "cell_type": "markdown",
   "id": "seven-tunisia",
   "metadata": {
    "slideshow": {
     "slide_type": "slide"
    }
   },
   "source": [
    "## DI x PRE Curve"
   ]
  },
  {
   "cell_type": "code",
   "execution_count": 51,
   "id": "related-attribute",
   "metadata": {},
   "outputs": [],
   "source": [
    "df = pd.read_parquet('data/contracts_202109_202111.parquet').reset_index(drop=True)"
   ]
  },
  {
   "cell_type": "code",
   "execution_count": 52,
   "id": "composed-passenger",
   "metadata": {
    "slideshow": {
     "slide_type": "-"
    }
   },
   "outputs": [],
   "source": [
    "di1 = df[(df['Mercadoria'] == 'DI1') &\n",
    "         (df['PUAtual'] != 100000.0) &\n",
    "         (df['DataRef'] == pd.to_datetime('2021-11-01'))].copy()"
   ]
  },
  {
   "cell_type": "code",
   "execution_count": 53,
   "id": "immediate-sphere",
   "metadata": {
    "slideshow": {
     "slide_type": "-"
    }
   },
   "outputs": [],
   "source": [
    "MARKET_CALENDAR = bizdays.Calendar.load('ANBIMA.cal')\n",
    "di1['Maturity'] = di1['Vencimento'].map(MARKET_CALENDAR.following)\n",
    "di1['DU'] = di1.apply(lambda x: MARKET_CALENDAR.bizdays(x['DataRef'], x['Maturity']), axis=1)\n",
    "di1['Rate'] = (100000 / di1['PUAtual'])**(252 / di1['DU']) - 1\n",
    "di1_curve = di1[['DataRef', 'Maturity', 'DU', 'Rate']]"
   ]
  },
  {
   "cell_type": "code",
   "execution_count": 54,
   "id": "exclusive-mumbai",
   "metadata": {
    "slideshow": {
     "slide_type": "slide"
    }
   },
   "outputs": [
    {
     "data": {
      "image/png": "[encoded data removed]",
      "text/plain": [
       "<Figure size 1440x432 with 1 Axes>"
      ]
     },
     "metadata": {
      "needs_background": "light"
     },
     "output_type": "display_data"
    }
   ],
   "source": [
    "di1_curve.plot(x='Maturity', y='Rate', figsize=(20,6), style='-o',\n",
    "               ylabel='Rate', xlabel='Date', title='DI1 Curve - 2021-11-01');"
   ]
  },
  {
   "cell_type": "markdown",
   "id": "desirable-softball",
   "metadata": {
    "slideshow": {
     "slide_type": "slide"
    }
   },
   "source": [
    "### Completing the curve with daily CDI"
   ]
  },
  {
   "cell_type": "code",
   "execution_count": 55,
   "id": "middle-thriller",
   "metadata": {},
   "outputs": [],
   "source": [
    "di1_curve_h = di1_curve.reset_index(drop=True).head()"
   ]
  },
  {
   "cell_type": "code",
   "execution_count": 56,
   "id": "relevant-prague",
   "metadata": {},
   "outputs": [],
   "source": [
    "cdi = sgs.get(('CDI', 4389), start_date='2021-11-01', end_date='2021-11-01')"
   ]
  },
  {
   "cell_type": "code",
   "execution_count": 57,
   "id": "vietnamese-consortium",
   "metadata": {},
   "outputs": [],
   "source": [
    "first_term = pd.DataFrame({\n",
    "    'DataRef': datetime.datetime(2021,11,1),\n",
    "    'Maturity': ['2021-11-03'],\n",
    "    'DU': [1],\n",
    "    'Rate': [cdi.iloc[0, 0]/100]\n",
    "})"
   ]
  },
  {
   "cell_type": "code",
   "execution_count": 58,
   "id": "supreme-acrobat",
   "metadata": {},
   "outputs": [
    {
     "data": {
      "text/html": [
       "<div>\n",
       "<style scoped>\n",
       "    .dataframe tbody tr th:only-of-type {\n",
       "        vertical-align: middle;\n",
       "    }\n",
       "\n",
       "    .dataframe tbody tr th {\n",
       "        vertical-align: top;\n",
       "    }\n",
       "\n",
       "    .dataframe thead th {\n",
       "        text-align: right;\n",
       "    }\n",
       "</style>\n",
       "<table border=\"1\" class=\"dataframe\">\n",
       "  <thead>\n",
       "    <tr style=\"text-align: right;\">\n",
       "      <th></th>\n",
       "      <th>DataRef</th>\n",
       "      <th>Maturity</th>\n",
       "      <th>DU</th>\n",
       "      <th>Rate</th>\n",
       "    </tr>\n",
       "  </thead>\n",
       "  <tbody>\n",
       "    <tr>\n",
       "      <th>0</th>\n",
       "      <td>2021-11-01</td>\n",
       "      <td>2021-11-03</td>\n",
       "      <td>1</td>\n",
       "      <td>0.07650</td>\n",
       "    </tr>\n",
       "    <tr>\n",
       "      <th>1</th>\n",
       "      <td>2021-11-01</td>\n",
       "      <td>2021-12-01</td>\n",
       "      <td>20</td>\n",
       "      <td>0.07670</td>\n",
       "    </tr>\n",
       "    <tr>\n",
       "      <th>2</th>\n",
       "      <td>2021-11-01</td>\n",
       "      <td>2022-01-03</td>\n",
       "      <td>43</td>\n",
       "      <td>0.08380</td>\n",
       "    </tr>\n",
       "    <tr>\n",
       "      <th>3</th>\n",
       "      <td>2021-11-01</td>\n",
       "      <td>2022-02-01</td>\n",
       "      <td>64</td>\n",
       "      <td>0.08762</td>\n",
       "    </tr>\n",
       "    <tr>\n",
       "      <th>4</th>\n",
       "      <td>2021-11-01</td>\n",
       "      <td>2022-03-02</td>\n",
       "      <td>83</td>\n",
       "      <td>0.09371</td>\n",
       "    </tr>\n",
       "    <tr>\n",
       "      <th>5</th>\n",
       "      <td>2021-11-01</td>\n",
       "      <td>2022-04-01</td>\n",
       "      <td>105</td>\n",
       "      <td>0.10060</td>\n",
       "    </tr>\n",
       "  </tbody>\n",
       "</table>\n",
       "</div>"
      ],
      "text/plain": [
       "     DataRef    Maturity   DU     Rate\n",
       "0 2021-11-01  2021-11-03    1  0.07650\n",
       "1 2021-11-01  2021-12-01   20  0.07670\n",
       "2 2021-11-01  2022-01-03   43  0.08380\n",
       "3 2021-11-01  2022-02-01   64  0.08762\n",
       "4 2021-11-01  2022-03-02   83  0.09371\n",
       "5 2021-11-01  2022-04-01  105  0.10060"
      ]
     },
     "execution_count": 58,
     "metadata": {},
     "output_type": "execute_result"
    }
   ],
   "source": [
    "di1_curve_h = pd.concat([first_term, di1_curve_h], axis=0).reset_index(drop=True)\n",
    "di1_curve_h['DataRef'] = pd.to_datetime(di1_curve_h['DataRef'])\n",
    "di1_curve_h"
   ]
  },
  {
   "cell_type": "markdown",
   "id": "successful-breakdown",
   "metadata": {
    "slideshow": {
     "slide_type": "slide"
    }
   },
   "source": [
    "### Exponential Flat Forward Interpolation"
   ]
  },
  {
   "cell_type": "code",
   "execution_count": 59,
   "id": "alternate-survivor",
   "metadata": {
    "slideshow": {
     "slide_type": "-"
    }
   },
   "outputs": [],
   "source": [
    "log_pu = np.log((1 + di1_curve_h['Rate'])**(di1_curve_h['DU']/252))\n",
    "terms = di1_curve_h['DU']\n",
    "i_terms = np.array(range(terms.min(), terms.max()))\n",
    "pu = np.exp(np.interp(i_terms, terms, log_pu))\n",
    "i_curve = pd.DataFrame({\n",
    "    'DU': i_terms,\n",
    "    'Maturity': MARKET_CALENDAR.vec.offset('2021-11-01', i_terms),\n",
    "    'Rate': pu ** (252 / i_terms) - 1\n",
    "})"
   ]
  },
  {
   "cell_type": "code",
   "execution_count": 60,
   "id": "healthy-associate",
   "metadata": {
    "slideshow": {
     "slide_type": "slide"
    }
   },
   "outputs": [],
   "source": [
    "i_curve['Factor'] = (1 + i_curve['Rate'])**(i_curve['DU']/252)\n",
    "i_curve['Factor_p'] = i_curve['Factor'].shift(1)\n",
    "i_curve['FwdRate'] = (i_curve['Factor']/i_curve['Factor_p'])**252 - 1"
   ]
  },
  {
   "cell_type": "code",
   "execution_count": 61,
   "id": "digital-particle",
   "metadata": {},
   "outputs": [
    {
     "data": {
      "image/png": "[encoded data removed]",
      "text/plain": [
       "<Figure size 1440x432 with 1 Axes>"
      ]
     },
     "metadata": {
      "needs_background": "light"
     },
     "output_type": "display_data"
    }
   ],
   "source": [
    "plt.figure(figsize=(20,6))\n",
    "plt.xlabel('Rate')\n",
    "plt.title('DI1 Curve')\n",
    "plt.plot(i_curve['Maturity'], i_curve['Rate'], '-o')\n",
    "plt.plot(i_curve['Maturity'], i_curve['FwdRate'], 'o')\n",
    "plt.plot(pd.to_datetime(di1_curve_h['Maturity']), di1_curve_h['Rate'], 'o', color='red');\n",
    "plt.legend(['Interpolated', 'Daily Forward Rates', 'Curve'])\n",
    "plt.show()"
   ]
  },
  {
   "cell_type": "markdown",
   "id": "coordinate-willow",
   "metadata": {
    "slideshow": {
     "slide_type": "slide"
    }
   },
   "source": [
    "## COPOM Meetings"
   ]
  },
  {
   "cell_type": "code",
   "execution_count": 62,
   "id": "european-battle",
   "metadata": {},
   "outputs": [],
   "source": [
    "rates = sgs.get(dict(SELICTARGET=432, CDI=4389), start_date='2021-09-01', end_date='2021-12-31')"
   ]
  },
  {
   "cell_type": "code",
   "execution_count": 63,
   "id": "immediate-jacket",
   "metadata": {},
   "outputs": [
    {
     "data": {
      "image/png": "[encoded data removed]",
      "text/plain": [
       "<Figure size 1440x432 with 1 Axes>"
      ]
     },
     "metadata": {
      "needs_background": "light"
     },
     "output_type": "display_data"
    }
   ],
   "source": [
    "plt.figure(figsize=(20,6))\n",
    "plt.plot(rates[0].index, rates[0]);\n",
    "plt.plot(rates[1].index, rates[1]);\n",
    "plt.legend(['SELIC Target', 'CDI']);"
   ]
  },
  {
   "cell_type": "markdown",
   "id": "ready-floating",
   "metadata": {
    "slideshow": {
     "slide_type": "slide"
    }
   },
   "source": [
    "In the same chart:\n",
    "\n",
    "- Historical SELIC Target\n",
    "- Daily Forward Rates"
   ]
  },
  {
   "cell_type": "code",
   "execution_count": 64,
   "id": "precise-veteran",
   "metadata": {
    "slideshow": {
     "slide_type": "-"
    }
   },
   "outputs": [
    {
     "data": {
      "image/png": "[encoded data removed]",
      "text/plain": [
       "<Figure size 1440x432 with 1 Axes>"
      ]
     },
     "metadata": {
      "needs_background": "light"
     },
     "output_type": "display_data"
    }
   ],
   "source": [
    "plt.figure(figsize=(20,6))\n",
    "plt.xlabel('Rate')\n",
    "plt.title('DI1 Curve')\n",
    "plt.plot(rates[0].index, rates[0]/100, 'o')\n",
    "plt.plot(i_curve['Maturity'], i_curve['FwdRate'], 'o')\n",
    "plt.plot(pd.to_datetime(di1_curve_h['Maturity']), di1_curve_h['Rate'], 'o', color='red');\n",
    "plt.legend(['SELICTARGET', 'Daily Forward Rates', 'Curve'])\n",
    "plt.show()"
   ]
  },
  {
   "cell_type": "markdown",
   "id": "freelance-vintage",
   "metadata": {
    "slideshow": {
     "slide_type": "slide"
    }
   },
   "source": [
    "### COPOM Meetings considerations\n",
    "\n",
    "* Is is a good idea to consider the COPOM Meetings in the interpolation.\n",
    "* Specially the **first meeting** that is more clear and presents a direct result.\n"
   ]
  },
  {
   "cell_type": "markdown",
   "id": "western-viking",
   "metadata": {
    "slideshow": {
     "slide_type": "slide"
    }
   },
   "source": [
    "### Define the rates before the COPOM Meeting\n",
    "\n",
    "* On 2021-11-01, the next COPOM Meeting occurs at 2021-12-08.\n",
    "* Up to the next meeting, the interpolation must consider the current CDI rate available.\n",
    "* The first future matures at 2021-12-01 (Z21), before the first meeting.\n",
    "    * Its price might be slightly different.\n",
    "    * Once we don't have any new information, the CDI must be kept."
   ]
  },
  {
   "cell_type": "code",
   "execution_count": 65,
   "id": "precise-priority",
   "metadata": {},
   "outputs": [],
   "source": [
    "i_curve['COPOM_Rate'] = np.nan\n",
    "_cdi = cdi.values[0, 0]/100\n",
    "i_curve.loc[i_curve['Maturity'] <= pd.to_datetime('2021-12-08'), 'COPOM_Rate'] = _cdi"
   ]
  },
  {
   "cell_type": "code",
   "execution_count": 66,
   "id": "classified-bennett",
   "metadata": {
    "slideshow": {
     "slide_type": "slide"
    }
   },
   "outputs": [
    {
     "data": {
      "image/png": "[encoded data removed]",
      "text/plain": [
       "<Figure size 1440x432 with 1 Axes>"
      ]
     },
     "metadata": {
      "needs_background": "light"
     },
     "output_type": "display_data"
    }
   ],
   "source": [
    "plt.figure(figsize=(20,6))\n",
    "plt.xlabel('Rate')\n",
    "plt.title('DI1 Curve')\n",
    "plt.plot(i_curve['Maturity'], i_curve['FwdRate'], 'o')\n",
    "plt.plot(i_curve['Maturity'], i_curve['COPOM_Rate'], 'x')\n",
    "plt.plot(pd.to_datetime(di1_curve_h['Maturity']), di1_curve_h['Rate'], 'o', color='red');\n",
    "plt.legend(['Daily Forward Rates', 'COPOM Rates', 'Curve'])\n",
    "plt.show()"
   ]
  },
  {
   "cell_type": "markdown",
   "id": "numeric-swiss",
   "metadata": {
    "slideshow": {
     "slide_type": "slide"
    }
   },
   "source": [
    "### Define the rates after the COPOM Meeting\n",
    "\n",
    "* The second furure expires at 2022-01-01 (F22) is influenced by the decision taken on the this next meeting.\n",
    "\n",
    "* The spot rate $r(t, T)$ reffers to the second future and can be written as\n",
    "\n",
    "$$\n",
    "(1 + r(t,T))^{DU(t,T)/252} = (1 + CDI_t)^{DU(t,C)/252} (1 + CDI_{a})^{DU(C,T)/252}\n",
    "$$\n",
    "\n",
    "where\n",
    "\n",
    "- $C$: COPOM Meeting Date\n",
    "- $CDI_t$: current CDI rate\n",
    "- $CDI_a$: the expected CDI rate after the meeting"
   ]
  },
  {
   "cell_type": "code",
   "execution_count": 67,
   "id": "outstanding-judgment",
   "metadata": {
    "slideshow": {
     "slide_type": "slide"
    }
   },
   "outputs": [],
   "source": [
    "f22_rate = di1.loc[di1['CDVencimento'] == 'F22', 'Rate'].values[0]\n",
    "f22_DU = di1.loc[di1['CDVencimento'] == 'F22', 'DU'].values[0]\n",
    "C_DU = MARKET_CALENDAR.bizdays('2021-11-01', '2021-12-08')\n",
    "\n",
    "f1 = (1 + f22_rate) ** (f22_DU/252)\n",
    "f2 = (1 + _cdi) ** (C_DU/252)\n",
    "\n",
    "rate_C = (f1 / f2) ** (252 / (f22_DU - C_DU)) - 1"
   ]
  },
  {
   "cell_type": "code",
   "execution_count": 68,
   "id": "acute-enough",
   "metadata": {},
   "outputs": [],
   "source": [
    "ix = (pd.to_datetime('2021-12-08') < i_curve['Maturity']) & \\\n",
    "     (i_curve['Maturity'] <= pd.to_datetime('2022-01-03'))\n",
    "i_curve.loc[ix, 'COPOM_Rate'] = rate_C"
   ]
  },
  {
   "cell_type": "code",
   "execution_count": 69,
   "id": "general-wages",
   "metadata": {
    "slideshow": {
     "slide_type": "slide"
    }
   },
   "outputs": [
    {
     "data": {
      "image/png": "[encoded data removed]",
      "text/plain": [
       "<Figure size 1440x432 with 1 Axes>"
      ]
     },
     "metadata": {
      "needs_background": "light"
     },
     "output_type": "display_data"
    }
   ],
   "source": [
    "plt.figure(figsize=(20,6))\n",
    "plt.xlabel('Rate')\n",
    "plt.title('DI1 Curve')\n",
    "plt.plot(i_curve['Maturity'], i_curve['FwdRate'], 'o')\n",
    "plt.plot(i_curve['Maturity'], i_curve['COPOM_Rate'], 'x')\n",
    "plt.plot(pd.to_datetime(di1_curve_h['Maturity']), di1_curve_h['Rate'], 'o', color='red');\n",
    "plt.legend(['Daily Forward Rates', 'COPOM Rates', 'Curve'])\n",
    "plt.show()"
   ]
  },
  {
   "cell_type": "markdown",
   "id": "ordered-genome",
   "metadata": {
    "slideshow": {
     "slide_type": "slide"
    }
   },
   "source": [
    "### COPOM decision implied in the future\n",
    "\n",
    "* By the price of the future, we can see that the decision, that will be taken in the COPOM Meeting, is implied in the future price\n",
    "\n",
    "$$\n",
    "(1 + r(t,T))^{DU(t,T)/252} = (1 + CDI_t)^{DU(t,C)/252} (1 + CDI_{t} + u)^{DU(C,T)/252}\n",
    "$$\n",
    "\n",
    "where\n",
    "\n",
    "* $u$: the change in the spot rate announced in the COPOM Meeting"
   ]
  },
  {
   "cell_type": "code",
   "execution_count": 70,
   "id": "southwest-delhi",
   "metadata": {},
   "outputs": [
    {
     "name": "stdout",
     "output_type": "stream",
     "text": [
      "175.20749160745655 change in the spot rate (SELICTARGET) in bps\n"
     ]
    }
   ],
   "source": [
    "f22_rate = di1.loc[di1['CDVencimento'] == 'F22', 'Rate'].values[0]\n",
    "f22_DU = di1.loc[di1['CDVencimento'] == 'F22', 'DU'].values[0]\n",
    "C_DU = MARKET_CALENDAR.bizdays('2021-11-01', '2021-12-08')\n",
    "\n",
    "f1 = (1 + f22_rate) ** (f22_DU/252)\n",
    "f2 = (1 + _cdi) ** (C_DU/252)\n",
    "\n",
    "change = (f1 / f2) ** (252 / (f22_DU - C_DU)) - 1 - _cdi\n",
    "\n",
    "print(change * 1e4, 'change in the spot rate (SELICTARGET) in bps')"
   ]
  },
  {
   "cell_type": "markdown",
   "id": "particular-dialogue",
   "metadata": {
    "slideshow": {
     "slide_type": "slide"
    }
   },
   "source": [
    "## Tesouro Direto -- Government Bonds\n",
    "\n",
    "* Government Bonds are daily traded in the Tesouro Direto\n",
    "\n",
    "* Contracts traded in Tesouro Direto\n",
    "    * LFT: Floating Rate Note\n",
    "    * LTN: Fixed Rate Note\n",
    "    * NTN-F: Fixed Rate Note with Coupons\n",
    "    * NTN-B: Inflation Indexed with Coupons\n",
    "    * NTN-B Principal: Inflation Indexed Bullet Bond\n"
   ]
  },
  {
   "cell_type": "markdown",
   "id": "celtic-surname",
   "metadata": {
    "slideshow": {
     "slide_type": "slide"
    }
   },
   "source": [
    "### LFT\n",
    "\n",
    "* LFT - Letra Financeira do Tesouro is a **Floating Rate Bond**.\n",
    "    * It is a bullet bond, has no coupon payments.\n",
    "\n",
    "\n",
    "#### Present Value\n",
    "\n",
    "$$\n",
    "LFT = \\frac{VNA}{(1 + s)^{DU/252}}\n",
    "$$\n",
    "\n",
    "$$\n",
    "VNA = 1000 \\prod_{n=1}^T(1 + SELIC_{n})^{1/252}\n",
    "$$\n",
    "\n",
    "\n",
    "* $s$: small spread that is paid to enter in this contract\n",
    "    * $s$ can be treated as an risk factor, but unfortunately this is not *headgeable*, and also tiny.\n",
    "* $VNA$: Valor Nominal Atualizado - *Notional Accrued*\n",
    "    * $VNA$ is what the investor receives at maturity\n"
   ]
  },
  {
   "cell_type": "markdown",
   "id": "charming-madrid",
   "metadata": {
    "slideshow": {
     "slide_type": "slide"
    }
   },
   "source": [
    "\n",
    "* <https://www.anbima.com.br/pt_br/informar/valor-nominal-atualizado.htm>\n",
    "\n",
    "![](images/VNA_LFT_20211101.png)\n",
    "\n"
   ]
  },
  {
   "cell_type": "markdown",
   "id": "floating-restriction",
   "metadata": {
    "slideshow": {
     "slide_type": "slide"
    }
   },
   "source": [
    "### LTN\n",
    "\n",
    "* LTN - Letra do Tesouro Nacional is a **Fixed Rate Bond**.\n",
    "    * It is a bullet bond, has no coupon payments\n",
    "\n",
    "<!-- ![](images/fluxo-de-caixa-ltn.png) -->\n",
    "<img src=\"images/fluxo-de-caixa-ltn.png\" width=\"600\">\n",
    "\n",
    "#### Present Value\n",
    "\n",
    "$$\n",
    "VP_t = \\frac{1000}{(1 + y_t)^T}\n",
    "$$\n",
    "\n"
   ]
  },
  {
   "cell_type": "markdown",
   "id": "toxic-lafayette",
   "metadata": {
    "slideshow": {
     "slide_type": "slide"
    }
   },
   "source": [
    "### NTN-F\n",
    "\n",
    "* NTN-F - Nota Financeira do Tesouro Série F is a **Fixed Rate Bond**.\n",
    "    * It has semi annual coupon payments.\n",
    "\n",
    "<!-- ![](images/fluxo-de-caixa-ntnf.png) -->\n",
    "<img src=\"images/fluxo-de-caixa-ntnf.png\" width=\"800\">\n",
    "\n",
    "#### Present Value\n",
    "\n",
    "$$\n",
    "VP_t = \\sum_{k=1}^{N}\\frac{1000\\cdot[(1.10)^{0.5}-1]}{(1+y_t)^{t_k}} + \\frac{1000}{(1 + y_t)^{t_N}}\n",
    "$$"
   ]
  },
  {
   "cell_type": "markdown",
   "id": "placed-montreal",
   "metadata": {
    "slideshow": {
     "slide_type": "slide"
    }
   },
   "source": [
    "### NTN-B\n",
    "\n",
    "* NTN-F - Nota Financeira do Tesouro Série B is a **Fixed Rate Bond**.\n",
    "    * It has semi annual coupon payments.\n",
    "    * It is indexed to IPCA index (inflation index).\n",
    "    * It pays the inflation during a period plus an interest rate.\n",
    "\n",
    "<!-- <div style=\"max-width:400px;margin-left: auto; margin-right: 0;\">\n",
    "    ![](images/fluxo-de-caixa-ntnb.png)\n",
    "</div> -->\n",
    "<img src=\"images/fluxo-de-caixa-ntnb.png\" width=\"700\">\n",
    "\n",
    "\n",
    "#### Present Value\n",
    "\n",
    "$$\n",
    "VP_t = \\sum_{k=1}^{N}\\frac{VNA_t\\cdot[(1.06)^{0.5}-1]}{(1+y_t)^{t_k}} + \\frac{VNA_t}{(1 + y_t)^{t_N}}\n",
    "$$\n",
    "\n",
    "* $VNA_t$: is indexed to IPCA inflation index."
   ]
  },
  {
   "cell_type": "markdown",
   "id": "danish-hawaii",
   "metadata": {
    "slideshow": {
     "slide_type": "slide"
    }
   },
   "source": [
    "* <https://www.anbima.com.br/pt_br/informar/valor-nominal-atualizado.htm>\n",
    "\n",
    "![](images/VNA_NTN-B_20211101.png)\n",
    "\n"
   ]
  },
  {
   "cell_type": "markdown",
   "id": "lovely-symbol",
   "metadata": {
    "slideshow": {
     "slide_type": "slide"
    }
   },
   "source": [
    "### NTN-B Principal\n",
    "\n",
    "* NTN-B  Nota Financeira do Tesouro Série B is a **Fixed Rate Bond**.\n",
    "    * It is a bullet bond, has no coupon payments.\n",
    "    * This bond is mostly traded in retail, actually it has been striped from NTN-B bonds.\n",
    "\n",
    "<!-- ![](images/fluxo-de-caixa-ntnb-principal.png) -->\n",
    "<img src=\"images/fluxo-de-caixa-ntnb-principal.png\" width=\"600\">\n",
    "\n",
    "#### Present Value\n",
    "\n",
    "$$\n",
    "VP_t = \\frac{VNA_t}{(1 + c_t)^T}\n",
    "$$\n"
   ]
  },
  {
   "cell_type": "markdown",
   "id": "bigger-commander",
   "metadata": {
    "slideshow": {
     "slide_type": "slide"
    }
   },
   "source": [
    "### Data\n",
    "\n",
    "* <https://www.anbima.com.br/pt_br/informar/valor-nominal-atualizado.htm>\n",
    "\n",
    "* <https://www.anbima.com.br/pt_br/informar/taxas-de-titulos-publicos.htm>\n",
    "\n",
    "* <https://www.tesourodireto.com.br/titulos/precos-e-taxas.htm>\n"
   ]
  },
  {
   "cell_type": "code",
   "execution_count": 71,
   "id": "patient-lawyer",
   "metadata": {
    "slideshow": {
     "slide_type": "slide"
    }
   },
   "outputs": [],
   "source": [
    "df = pd.read_parquet('data/2021-11-01.parquet')"
   ]
  },
  {
   "cell_type": "code",
   "execution_count": 72,
   "id": "supreme-ecuador",
   "metadata": {},
   "outputs": [
    {
     "data": {
      "text/html": [
       "<div>\n",
       "<style scoped>\n",
       "    .dataframe tbody tr th:only-of-type {\n",
       "        vertical-align: middle;\n",
       "    }\n",
       "\n",
       "    .dataframe tbody tr th {\n",
       "        vertical-align: top;\n",
       "    }\n",
       "\n",
       "    .dataframe thead th {\n",
       "        text-align: right;\n",
       "    }\n",
       "</style>\n",
       "<table border=\"1\" class=\"dataframe\">\n",
       "  <thead>\n",
       "    <tr style=\"text-align: right;\">\n",
       "      <th></th>\n",
       "      <th>symbol</th>\n",
       "      <th>refdate</th>\n",
       "      <th>cod_selic</th>\n",
       "      <th>issue_date</th>\n",
       "      <th>maturity_date</th>\n",
       "      <th>bid_yield</th>\n",
       "      <th>ask_yield</th>\n",
       "      <th>ref_yield</th>\n",
       "      <th>price</th>\n",
       "    </tr>\n",
       "  </thead>\n",
       "  <tbody>\n",
       "    <tr>\n",
       "      <th>0</th>\n",
       "      <td>LTN</td>\n",
       "      <td>2021-11-01</td>\n",
       "      <td>100000</td>\n",
       "      <td>2018-01-05</td>\n",
       "      <td>2022-01-01</td>\n",
       "      <td>8.3786</td>\n",
       "      <td>8.3490</td>\n",
       "      <td>8.3700</td>\n",
       "      <td>986.377808</td>\n",
       "    </tr>\n",
       "    <tr>\n",
       "      <th>1</th>\n",
       "      <td>LTN</td>\n",
       "      <td>2021-11-01</td>\n",
       "      <td>100000</td>\n",
       "      <td>2020-01-03</td>\n",
       "      <td>2022-04-01</td>\n",
       "      <td>10.0547</td>\n",
       "      <td>10.0280</td>\n",
       "      <td>10.0447</td>\n",
       "      <td>960.902954</td>\n",
       "    </tr>\n",
       "    <tr>\n",
       "      <th>2</th>\n",
       "      <td>LTN</td>\n",
       "      <td>2021-11-01</td>\n",
       "      <td>100000</td>\n",
       "      <td>2018-06-21</td>\n",
       "      <td>2022-07-01</td>\n",
       "      <td>11.3245</td>\n",
       "      <td>11.3034</td>\n",
       "      <td>11.3150</td>\n",
       "      <td>931.427257</td>\n",
       "    </tr>\n",
       "    <tr>\n",
       "      <th>3</th>\n",
       "      <td>LTN</td>\n",
       "      <td>2021-11-01</td>\n",
       "      <td>100000</td>\n",
       "      <td>2020-07-03</td>\n",
       "      <td>2022-10-01</td>\n",
       "      <td>11.9885</td>\n",
       "      <td>11.9672</td>\n",
       "      <td>11.9797</td>\n",
       "      <td>901.074386</td>\n",
       "    </tr>\n",
       "    <tr>\n",
       "      <th>4</th>\n",
       "      <td>LTN</td>\n",
       "      <td>2021-11-01</td>\n",
       "      <td>100000</td>\n",
       "      <td>2016-01-20</td>\n",
       "      <td>2023-01-01</td>\n",
       "      <td>12.3164</td>\n",
       "      <td>12.3025</td>\n",
       "      <td>12.3092</td>\n",
       "      <td>873.337504</td>\n",
       "    </tr>\n",
       "    <tr>\n",
       "      <th>5</th>\n",
       "      <td>LTN</td>\n",
       "      <td>2021-11-01</td>\n",
       "      <td>100000</td>\n",
       "      <td>2019-04-05</td>\n",
       "      <td>2023-07-01</td>\n",
       "      <td>12.5288</td>\n",
       "      <td>12.5172</td>\n",
       "      <td>12.5230</td>\n",
       "      <td>822.251181</td>\n",
       "    </tr>\n",
       "    <tr>\n",
       "      <th>6</th>\n",
       "      <td>LTN</td>\n",
       "      <td>2021-11-01</td>\n",
       "      <td>100000</td>\n",
       "      <td>2020-01-03</td>\n",
       "      <td>2024-01-01</td>\n",
       "      <td>12.5514</td>\n",
       "      <td>12.5400</td>\n",
       "      <td>12.5450</td>\n",
       "      <td>775.183013</td>\n",
       "    </tr>\n",
       "    <tr>\n",
       "      <th>7</th>\n",
       "      <td>LTN</td>\n",
       "      <td>2021-11-01</td>\n",
       "      <td>100000</td>\n",
       "      <td>2021-01-08</td>\n",
       "      <td>2024-07-01</td>\n",
       "      <td>12.5575</td>\n",
       "      <td>12.5419</td>\n",
       "      <td>12.5511</td>\n",
       "      <td>731.284206</td>\n",
       "    </tr>\n",
       "    <tr>\n",
       "      <th>8</th>\n",
       "      <td>LTN</td>\n",
       "      <td>2021-11-01</td>\n",
       "      <td>100000</td>\n",
       "      <td>2018-02-01</td>\n",
       "      <td>2025-01-01</td>\n",
       "      <td>12.5426</td>\n",
       "      <td>12.5223</td>\n",
       "      <td>12.5317</td>\n",
       "      <td>688.387569</td>\n",
       "    </tr>\n",
       "    <tr>\n",
       "      <th>9</th>\n",
       "      <td>NTN-C</td>\n",
       "      <td>2021-11-01</td>\n",
       "      <td>770100</td>\n",
       "      <td>2000-07-01</td>\n",
       "      <td>2031-01-01</td>\n",
       "      <td>5.6433</td>\n",
       "      <td>3.6057</td>\n",
       "      <td>4.4585</td>\n",
       "      <td>9395.480705</td>\n",
       "    </tr>\n",
       "    <tr>\n",
       "      <th>10</th>\n",
       "      <td>LFT</td>\n",
       "      <td>2021-11-01</td>\n",
       "      <td>210100</td>\n",
       "      <td>2000-07-01</td>\n",
       "      <td>2022-03-01</td>\n",
       "      <td>0.0258</td>\n",
       "      <td>0.0134</td>\n",
       "      <td>0.0197</td>\n",
       "      <td>11085.171281</td>\n",
       "    </tr>\n",
       "    <tr>\n",
       "      <th>11</th>\n",
       "      <td>LFT</td>\n",
       "      <td>2021-11-01</td>\n",
       "      <td>210100</td>\n",
       "      <td>2000-07-01</td>\n",
       "      <td>2022-09-01</td>\n",
       "      <td>0.0227</td>\n",
       "      <td>0.0074</td>\n",
       "      <td>0.0164</td>\n",
       "      <td>11084.362010</td>\n",
       "    </tr>\n",
       "    <tr>\n",
       "      <th>12</th>\n",
       "      <td>LFT</td>\n",
       "      <td>2021-11-01</td>\n",
       "      <td>210100</td>\n",
       "      <td>2000-07-01</td>\n",
       "      <td>2023-03-01</td>\n",
       "      <td>0.0277</td>\n",
       "      <td>0.0122</td>\n",
       "      <td>0.0200</td>\n",
       "      <td>11082.943016</td>\n",
       "    </tr>\n",
       "    <tr>\n",
       "      <th>13</th>\n",
       "      <td>LFT</td>\n",
       "      <td>2021-11-01</td>\n",
       "      <td>210100</td>\n",
       "      <td>2000-07-01</td>\n",
       "      <td>2023-09-01</td>\n",
       "      <td>0.0877</td>\n",
       "      <td>0.0782</td>\n",
       "      <td>0.0834</td>\n",
       "      <td>11068.952621</td>\n",
       "    </tr>\n",
       "    <tr>\n",
       "      <th>14</th>\n",
       "      <td>LFT</td>\n",
       "      <td>2021-11-01</td>\n",
       "      <td>210100</td>\n",
       "      <td>2000-07-01</td>\n",
       "      <td>2024-03-01</td>\n",
       "      <td>0.1153</td>\n",
       "      <td>0.1048</td>\n",
       "      <td>0.1114</td>\n",
       "      <td>11057.323520</td>\n",
       "    </tr>\n",
       "    <tr>\n",
       "      <th>15</th>\n",
       "      <td>LFT</td>\n",
       "      <td>2021-11-01</td>\n",
       "      <td>210100</td>\n",
       "      <td>2000-07-01</td>\n",
       "      <td>2024-09-01</td>\n",
       "      <td>0.1257</td>\n",
       "      <td>0.1082</td>\n",
       "      <td>0.1185</td>\n",
       "      <td>11048.853899</td>\n",
       "    </tr>\n",
       "    <tr>\n",
       "      <th>16</th>\n",
       "      <td>LFT</td>\n",
       "      <td>2021-11-01</td>\n",
       "      <td>210100</td>\n",
       "      <td>2000-07-01</td>\n",
       "      <td>2025-03-01</td>\n",
       "      <td>0.1559</td>\n",
       "      <td>0.1378</td>\n",
       "      <td>0.1483</td>\n",
       "      <td>11031.327104</td>\n",
       "    </tr>\n",
       "    <tr>\n",
       "      <th>17</th>\n",
       "      <td>LFT</td>\n",
       "      <td>2021-11-01</td>\n",
       "      <td>210100</td>\n",
       "      <td>2000-07-01</td>\n",
       "      <td>2025-09-01</td>\n",
       "      <td>0.1805</td>\n",
       "      <td>0.1639</td>\n",
       "      <td>0.1728</td>\n",
       "      <td>11012.979953</td>\n",
       "    </tr>\n",
       "    <tr>\n",
       "      <th>18</th>\n",
       "      <td>LFT</td>\n",
       "      <td>2021-11-01</td>\n",
       "      <td>210100</td>\n",
       "      <td>2000-07-01</td>\n",
       "      <td>2026-03-01</td>\n",
       "      <td>0.2256</td>\n",
       "      <td>0.2115</td>\n",
       "      <td>0.2171</td>\n",
       "      <td>10982.482664</td>\n",
       "    </tr>\n",
       "    <tr>\n",
       "      <th>19</th>\n",
       "      <td>LFT</td>\n",
       "      <td>2021-11-01</td>\n",
       "      <td>210100</td>\n",
       "      <td>2000-07-01</td>\n",
       "      <td>2026-09-01</td>\n",
       "      <td>0.2275</td>\n",
       "      <td>0.2101</td>\n",
       "      <td>0.2197</td>\n",
       "      <td>10969.113079</td>\n",
       "    </tr>\n",
       "    <tr>\n",
       "      <th>20</th>\n",
       "      <td>LFT</td>\n",
       "      <td>2021-11-01</td>\n",
       "      <td>210100</td>\n",
       "      <td>2000-07-01</td>\n",
       "      <td>2027-03-01</td>\n",
       "      <td>0.2696</td>\n",
       "      <td>0.2560</td>\n",
       "      <td>0.2632</td>\n",
       "      <td>10932.241402</td>\n",
       "    </tr>\n",
       "    <tr>\n",
       "      <th>21</th>\n",
       "      <td>LFT</td>\n",
       "      <td>2021-11-01</td>\n",
       "      <td>210100</td>\n",
       "      <td>2000-07-01</td>\n",
       "      <td>2027-09-01</td>\n",
       "      <td>0.2885</td>\n",
       "      <td>0.2786</td>\n",
       "      <td>0.2836</td>\n",
       "      <td>10904.615360</td>\n",
       "    </tr>\n",
       "    <tr>\n",
       "      <th>22</th>\n",
       "      <td>NTN-B</td>\n",
       "      <td>2021-11-01</td>\n",
       "      <td>760199</td>\n",
       "      <td>2000-07-15</td>\n",
       "      <td>2022-08-15</td>\n",
       "      <td>4.9816</td>\n",
       "      <td>4.9370</td>\n",
       "      <td>4.9523</td>\n",
       "      <td>3777.607643</td>\n",
       "    </tr>\n",
       "    <tr>\n",
       "      <th>23</th>\n",
       "      <td>NTN-B</td>\n",
       "      <td>2021-11-01</td>\n",
       "      <td>760100</td>\n",
       "      <td>2000-07-15</td>\n",
       "      <td>2023-03-15</td>\n",
       "      <td>5.5700</td>\n",
       "      <td>5.5320</td>\n",
       "      <td>5.5500</td>\n",
       "      <td>3752.528268</td>\n",
       "    </tr>\n",
       "    <tr>\n",
       "      <th>24</th>\n",
       "      <td>NTN-B</td>\n",
       "      <td>2021-11-01</td>\n",
       "      <td>760199</td>\n",
       "      <td>2000-07-15</td>\n",
       "      <td>2023-05-15</td>\n",
       "      <td>5.5638</td>\n",
       "      <td>5.5406</td>\n",
       "      <td>5.5500</td>\n",
       "      <td>3829.665672</td>\n",
       "    </tr>\n",
       "    <tr>\n",
       "      <th>25</th>\n",
       "      <td>NTN-B</td>\n",
       "      <td>2021-11-01</td>\n",
       "      <td>760199</td>\n",
       "      <td>2000-07-15</td>\n",
       "      <td>2024-08-15</td>\n",
       "      <td>5.5886</td>\n",
       "      <td>5.5636</td>\n",
       "      <td>5.5761</td>\n",
       "      <td>3789.162519</td>\n",
       "    </tr>\n",
       "    <tr>\n",
       "      <th>26</th>\n",
       "      <td>NTN-B</td>\n",
       "      <td>2021-11-01</td>\n",
       "      <td>760199</td>\n",
       "      <td>2000-07-15</td>\n",
       "      <td>2025-05-15</td>\n",
       "      <td>5.5846</td>\n",
       "      <td>5.5568</td>\n",
       "      <td>5.5700</td>\n",
       "      <td>3855.840927</td>\n",
       "    </tr>\n",
       "    <tr>\n",
       "      <th>27</th>\n",
       "      <td>NTN-B</td>\n",
       "      <td>2021-11-01</td>\n",
       "      <td>760199</td>\n",
       "      <td>2000-07-15</td>\n",
       "      <td>2026-08-15</td>\n",
       "      <td>5.5257</td>\n",
       "      <td>5.4968</td>\n",
       "      <td>5.5100</td>\n",
       "      <td>3822.971915</td>\n",
       "    </tr>\n",
       "    <tr>\n",
       "      <th>28</th>\n",
       "      <td>NTN-B</td>\n",
       "      <td>2021-11-01</td>\n",
       "      <td>760199</td>\n",
       "      <td>2000-07-15</td>\n",
       "      <td>2028-08-15</td>\n",
       "      <td>5.5346</td>\n",
       "      <td>5.5046</td>\n",
       "      <td>5.5200</td>\n",
       "      <td>3848.258618</td>\n",
       "    </tr>\n",
       "    <tr>\n",
       "      <th>29</th>\n",
       "      <td>NTN-B</td>\n",
       "      <td>2021-11-01</td>\n",
       "      <td>760199</td>\n",
       "      <td>2000-07-15</td>\n",
       "      <td>2030-08-15</td>\n",
       "      <td>5.5346</td>\n",
       "      <td>5.5065</td>\n",
       "      <td>5.5225</td>\n",
       "      <td>3872.216196</td>\n",
       "    </tr>\n",
       "    <tr>\n",
       "      <th>30</th>\n",
       "      <td>NTN-B</td>\n",
       "      <td>2021-11-01</td>\n",
       "      <td>760199</td>\n",
       "      <td>2000-07-15</td>\n",
       "      <td>2035-05-15</td>\n",
       "      <td>5.5463</td>\n",
       "      <td>5.5065</td>\n",
       "      <td>5.5300</td>\n",
       "      <td>3970.863958</td>\n",
       "    </tr>\n",
       "    <tr>\n",
       "      <th>31</th>\n",
       "      <td>NTN-B</td>\n",
       "      <td>2021-11-01</td>\n",
       "      <td>760199</td>\n",
       "      <td>2000-07-15</td>\n",
       "      <td>2040-08-15</td>\n",
       "      <td>5.5490</td>\n",
       "      <td>5.5015</td>\n",
       "      <td>5.5264</td>\n",
       "      <td>3954.166588</td>\n",
       "    </tr>\n",
       "    <tr>\n",
       "      <th>32</th>\n",
       "      <td>NTN-B</td>\n",
       "      <td>2021-11-01</td>\n",
       "      <td>760199</td>\n",
       "      <td>2000-07-15</td>\n",
       "      <td>2045-05-15</td>\n",
       "      <td>5.5634</td>\n",
       "      <td>5.5096</td>\n",
       "      <td>5.5392</td>\n",
       "      <td>4030.674601</td>\n",
       "    </tr>\n",
       "    <tr>\n",
       "      <th>33</th>\n",
       "      <td>NTN-B</td>\n",
       "      <td>2021-11-01</td>\n",
       "      <td>760199</td>\n",
       "      <td>2000-07-15</td>\n",
       "      <td>2050-08-15</td>\n",
       "      <td>5.5617</td>\n",
       "      <td>5.5187</td>\n",
       "      <td>5.5444</td>\n",
       "      <td>3994.032946</td>\n",
       "    </tr>\n",
       "    <tr>\n",
       "      <th>34</th>\n",
       "      <td>NTN-B</td>\n",
       "      <td>2021-11-01</td>\n",
       "      <td>760199</td>\n",
       "      <td>2000-07-15</td>\n",
       "      <td>2055-05-15</td>\n",
       "      <td>5.5756</td>\n",
       "      <td>5.5243</td>\n",
       "      <td>5.5556</td>\n",
       "      <td>4058.282646</td>\n",
       "    </tr>\n",
       "    <tr>\n",
       "      <th>35</th>\n",
       "      <td>NTN-F</td>\n",
       "      <td>2021-11-01</td>\n",
       "      <td>950199</td>\n",
       "      <td>2012-03-09</td>\n",
       "      <td>2023-01-01</td>\n",
       "      <td>12.3190</td>\n",
       "      <td>12.3025</td>\n",
       "      <td>12.3100</td>\n",
       "      <td>1009.002558</td>\n",
       "    </tr>\n",
       "    <tr>\n",
       "      <th>36</th>\n",
       "      <td>NTN-F</td>\n",
       "      <td>2021-11-01</td>\n",
       "      <td>950199</td>\n",
       "      <td>2014-01-10</td>\n",
       "      <td>2025-01-01</td>\n",
       "      <td>12.4460</td>\n",
       "      <td>12.4320</td>\n",
       "      <td>12.4399</td>\n",
       "      <td>973.304745</td>\n",
       "    </tr>\n",
       "    <tr>\n",
       "      <th>37</th>\n",
       "      <td>NTN-F</td>\n",
       "      <td>2021-11-01</td>\n",
       "      <td>950199</td>\n",
       "      <td>2016-01-15</td>\n",
       "      <td>2027-01-01</td>\n",
       "      <td>12.4480</td>\n",
       "      <td>12.4143</td>\n",
       "      <td>12.4273</td>\n",
       "      <td>946.436967</td>\n",
       "    </tr>\n",
       "    <tr>\n",
       "      <th>38</th>\n",
       "      <td>NTN-F</td>\n",
       "      <td>2021-11-01</td>\n",
       "      <td>950199</td>\n",
       "      <td>2018-01-05</td>\n",
       "      <td>2029-01-01</td>\n",
       "      <td>12.4735</td>\n",
       "      <td>12.4427</td>\n",
       "      <td>12.4538</td>\n",
       "      <td>924.491356</td>\n",
       "    </tr>\n",
       "    <tr>\n",
       "      <th>39</th>\n",
       "      <td>NTN-F</td>\n",
       "      <td>2021-11-01</td>\n",
       "      <td>950199</td>\n",
       "      <td>2020-01-10</td>\n",
       "      <td>2031-01-01</td>\n",
       "      <td>12.3185</td>\n",
       "      <td>12.2986</td>\n",
       "      <td>12.3103</td>\n",
       "      <td>914.086234</td>\n",
       "    </tr>\n",
       "  </tbody>\n",
       "</table>\n",
       "</div>"
      ],
      "text/plain": [
       "   symbol     refdate  cod_selic  issue_date maturity_date  bid_yield  \\\n",
       "0     LTN  2021-11-01     100000  2018-01-05    2022-01-01     8.3786   \n",
       "1     LTN  2021-11-01     100000  2020-01-03    2022-04-01    10.0547   \n",
       "2     LTN  2021-11-01     100000  2018-06-21    2022-07-01    11.3245   \n",
       "3     LTN  2021-11-01     100000  2020-07-03    2022-10-01    11.9885   \n",
       "4     LTN  2021-11-01     100000  2016-01-20    2023-01-01    12.3164   \n",
       "5     LTN  2021-11-01     100000  2019-04-05    2023-07-01    12.5288   \n",
       "6     LTN  2021-11-01     100000  2020-01-03    2024-01-01    12.5514   \n",
       "7     LTN  2021-11-01     100000  2021-01-08    2024-07-01    12.5575   \n",
       "8     LTN  2021-11-01     100000  2018-02-01    2025-01-01    12.5426   \n",
       "9   NTN-C  2021-11-01     770100  2000-07-01    2031-01-01     5.6433   \n",
       "10    LFT  2021-11-01     210100  2000-07-01    2022-03-01     0.0258   \n",
       "11    LFT  2021-11-01     210100  2000-07-01    2022-09-01     0.0227   \n",
       "12    LFT  2021-11-01     210100  2000-07-01    2023-03-01     0.0277   \n",
       "13    LFT  2021-11-01     210100  2000-07-01    2023-09-01     0.0877   \n",
       "14    LFT  2021-11-01     210100  2000-07-01    2024-03-01     0.1153   \n",
       "15    LFT  2021-11-01     210100  2000-07-01    2024-09-01     0.1257   \n",
       "16    LFT  2021-11-01     210100  2000-07-01    2025-03-01     0.1559   \n",
       "17    LFT  2021-11-01     210100  2000-07-01    2025-09-01     0.1805   \n",
       "18    LFT  2021-11-01     210100  2000-07-01    2026-03-01     0.2256   \n",
       "19    LFT  2021-11-01     210100  2000-07-01    2026-09-01     0.2275   \n",
       "20    LFT  2021-11-01     210100  2000-07-01    2027-03-01     0.2696   \n",
       "21    LFT  2021-11-01     210100  2000-07-01    2027-09-01     0.2885   \n",
       "22  NTN-B  2021-11-01     760199  2000-07-15    2022-08-15     4.9816   \n",
       "23  NTN-B  2021-11-01     760100  2000-07-15    2023-03-15     5.5700   \n",
       "24  NTN-B  2021-11-01     760199  2000-07-15    2023-05-15     5.5638   \n",
       "25  NTN-B  2021-11-01     760199  2000-07-15    2024-08-15     5.5886   \n",
       "26  NTN-B  2021-11-01     760199  2000-07-15    2025-05-15     5.5846   \n",
       "27  NTN-B  2021-11-01     760199  2000-07-15    2026-08-15     5.5257   \n",
       "28  NTN-B  2021-11-01     760199  2000-07-15    2028-08-15     5.5346   \n",
       "29  NTN-B  2021-11-01     760199  2000-07-15    2030-08-15     5.5346   \n",
       "30  NTN-B  2021-11-01     760199  2000-07-15    2035-05-15     5.5463   \n",
       "31  NTN-B  2021-11-01     760199  2000-07-15    2040-08-15     5.5490   \n",
       "32  NTN-B  2021-11-01     760199  2000-07-15    2045-05-15     5.5634   \n",
       "33  NTN-B  2021-11-01     760199  2000-07-15    2050-08-15     5.5617   \n",
       "34  NTN-B  2021-11-01     760199  2000-07-15    2055-05-15     5.5756   \n",
       "35  NTN-F  2021-11-01     950199  2012-03-09    2023-01-01    12.3190   \n",
       "36  NTN-F  2021-11-01     950199  2014-01-10    2025-01-01    12.4460   \n",
       "37  NTN-F  2021-11-01     950199  2016-01-15    2027-01-01    12.4480   \n",
       "38  NTN-F  2021-11-01     950199  2018-01-05    2029-01-01    12.4735   \n",
       "39  NTN-F  2021-11-01     950199  2020-01-10    2031-01-01    12.3185   \n",
       "\n",
       "    ask_yield  ref_yield         price  \n",
       "0      8.3490     8.3700    986.377808  \n",
       "1     10.0280    10.0447    960.902954  \n",
       "2     11.3034    11.3150    931.427257  \n",
       "3     11.9672    11.9797    901.074386  \n",
       "4     12.3025    12.3092    873.337504  \n",
       "5     12.5172    12.5230    822.251181  \n",
       "6     12.5400    12.5450    775.183013  \n",
       "7     12.5419    12.5511    731.284206  \n",
       "8     12.5223    12.5317    688.387569  \n",
       "9      3.6057     4.4585   9395.480705  \n",
       "10     0.0134     0.0197  11085.171281  \n",
       "11     0.0074     0.0164  11084.362010  \n",
       "12     0.0122     0.0200  11082.943016  \n",
       "13     0.0782     0.0834  11068.952621  \n",
       "14     0.1048     0.1114  11057.323520  \n",
       "15     0.1082     0.1185  11048.853899  \n",
       "16     0.1378     0.1483  11031.327104  \n",
       "17     0.1639     0.1728  11012.979953  \n",
       "18     0.2115     0.2171  10982.482664  \n",
       "19     0.2101     0.2197  10969.113079  \n",
       "20     0.2560     0.2632  10932.241402  \n",
       "21     0.2786     0.2836  10904.615360  \n",
       "22     4.9370     4.9523   3777.607643  \n",
       "23     5.5320     5.5500   3752.528268  \n",
       "24     5.5406     5.5500   3829.665672  \n",
       "25     5.5636     5.5761   3789.162519  \n",
       "26     5.5568     5.5700   3855.840927  \n",
       "27     5.4968     5.5100   3822.971915  \n",
       "28     5.5046     5.5200   3848.258618  \n",
       "29     5.5065     5.5225   3872.216196  \n",
       "30     5.5065     5.5300   3970.863958  \n",
       "31     5.5015     5.5264   3954.166588  \n",
       "32     5.5096     5.5392   4030.674601  \n",
       "33     5.5187     5.5444   3994.032946  \n",
       "34     5.5243     5.5556   4058.282646  \n",
       "35    12.3025    12.3100   1009.002558  \n",
       "36    12.4320    12.4399    973.304745  \n",
       "37    12.4143    12.4273    946.436967  \n",
       "38    12.4427    12.4538    924.491356  \n",
       "39    12.2986    12.3103    914.086234  "
      ]
     },
     "execution_count": 72,
     "metadata": {},
     "output_type": "execute_result"
    }
   ],
   "source": [
    "df"
   ]
  },
  {
   "cell_type": "markdown",
   "id": "general-midwest",
   "metadata": {
    "slideshow": {
     "slide_type": "slide"
    }
   },
   "source": [
    "### PREFIXADO Curve\n",
    "\n",
    "* LTN contracts plus SELIC rate are used to build a risk free term structure."
   ]
  },
  {
   "cell_type": "code",
   "execution_count": 73,
   "id": "blocked-disaster",
   "metadata": {},
   "outputs": [],
   "source": [
    "ltn = df[df['symbol'] == 'LTN'].copy()\n",
    "\n",
    "ltn['fixing'] = ltn['maturity_date'].map(MARKET_CALENDAR.following)\n",
    "ltn['DU'] = list(MARKET_CALENDAR.vec.bizdays(ltn['refdate'], ltn['fixing']))\n",
    "\n",
    "ltn_terms = ltn[['refdate', 'maturity_date', 'DU', 'ref_yield']]\n",
    "\n",
    "selic = sgs.get({'SELIC': 1178}, start_date='2021-11-01', end_date='2021-11-01')\n",
    "first_term = pd.DataFrame({\n",
    "    'refdate': ['2021-11-01'],\n",
    "    'maturity_date': ['2021-11-03'],\n",
    "    'DU': [1],\n",
    "    'ref_yield': [selic.iloc[0, 0]]\n",
    "})\n",
    "\n",
    "ltn_curve = pd.concat([first_term, ltn_terms], axis=0).reset_index(drop=True)"
   ]
  },
  {
   "cell_type": "code",
   "execution_count": 74,
   "id": "american-philadelphia",
   "metadata": {
    "slideshow": {
     "slide_type": "slide"
    }
   },
   "outputs": [
    {
     "data": {
      "text/html": [
       "<div>\n",
       "<style scoped>\n",
       "    .dataframe tbody tr th:only-of-type {\n",
       "        vertical-align: middle;\n",
       "    }\n",
       "\n",
       "    .dataframe tbody tr th {\n",
       "        vertical-align: top;\n",
       "    }\n",
       "\n",
       "    .dataframe thead th {\n",
       "        text-align: right;\n",
       "    }\n",
       "</style>\n",
       "<table border=\"1\" class=\"dataframe\">\n",
       "  <thead>\n",
       "    <tr style=\"text-align: right;\">\n",
       "      <th></th>\n",
       "      <th>refdate</th>\n",
       "      <th>maturity_date</th>\n",
       "      <th>DU</th>\n",
       "      <th>ref_yield</th>\n",
       "    </tr>\n",
       "  </thead>\n",
       "  <tbody>\n",
       "    <tr>\n",
       "      <th>0</th>\n",
       "      <td>2021-11-01</td>\n",
       "      <td>2021-11-03</td>\n",
       "      <td>1</td>\n",
       "      <td>7.6500</td>\n",
       "    </tr>\n",
       "    <tr>\n",
       "      <th>1</th>\n",
       "      <td>2021-11-01</td>\n",
       "      <td>2022-01-01</td>\n",
       "      <td>43</td>\n",
       "      <td>8.3700</td>\n",
       "    </tr>\n",
       "    <tr>\n",
       "      <th>2</th>\n",
       "      <td>2021-11-01</td>\n",
       "      <td>2022-04-01</td>\n",
       "      <td>105</td>\n",
       "      <td>10.0447</td>\n",
       "    </tr>\n",
       "    <tr>\n",
       "      <th>3</th>\n",
       "      <td>2021-11-01</td>\n",
       "      <td>2022-07-01</td>\n",
       "      <td>167</td>\n",
       "      <td>11.3150</td>\n",
       "    </tr>\n",
       "    <tr>\n",
       "      <th>4</th>\n",
       "      <td>2021-11-01</td>\n",
       "      <td>2022-10-01</td>\n",
       "      <td>232</td>\n",
       "      <td>11.9797</td>\n",
       "    </tr>\n",
       "    <tr>\n",
       "      <th>5</th>\n",
       "      <td>2021-11-01</td>\n",
       "      <td>2023-01-01</td>\n",
       "      <td>294</td>\n",
       "      <td>12.3092</td>\n",
       "    </tr>\n",
       "    <tr>\n",
       "      <th>6</th>\n",
       "      <td>2021-11-01</td>\n",
       "      <td>2023-07-01</td>\n",
       "      <td>418</td>\n",
       "      <td>12.5230</td>\n",
       "    </tr>\n",
       "    <tr>\n",
       "      <th>7</th>\n",
       "      <td>2021-11-01</td>\n",
       "      <td>2024-01-01</td>\n",
       "      <td>543</td>\n",
       "      <td>12.5450</td>\n",
       "    </tr>\n",
       "    <tr>\n",
       "      <th>8</th>\n",
       "      <td>2021-11-01</td>\n",
       "      <td>2024-07-01</td>\n",
       "      <td>667</td>\n",
       "      <td>12.5511</td>\n",
       "    </tr>\n",
       "    <tr>\n",
       "      <th>9</th>\n",
       "      <td>2021-11-01</td>\n",
       "      <td>2025-01-01</td>\n",
       "      <td>797</td>\n",
       "      <td>12.5317</td>\n",
       "    </tr>\n",
       "  </tbody>\n",
       "</table>\n",
       "</div>"
      ],
      "text/plain": [
       "      refdate maturity_date   DU  ref_yield\n",
       "0  2021-11-01    2021-11-03    1     7.6500\n",
       "1  2021-11-01    2022-01-01   43     8.3700\n",
       "2  2021-11-01    2022-04-01  105    10.0447\n",
       "3  2021-11-01    2022-07-01  167    11.3150\n",
       "4  2021-11-01    2022-10-01  232    11.9797\n",
       "5  2021-11-01    2023-01-01  294    12.3092\n",
       "6  2021-11-01    2023-07-01  418    12.5230\n",
       "7  2021-11-01    2024-01-01  543    12.5450\n",
       "8  2021-11-01    2024-07-01  667    12.5511\n",
       "9  2021-11-01    2025-01-01  797    12.5317"
      ]
     },
     "execution_count": 74,
     "metadata": {},
     "output_type": "execute_result"
    }
   ],
   "source": [
    "ltn_curve"
   ]
  },
  {
   "cell_type": "code",
   "execution_count": 75,
   "id": "reflected-facility",
   "metadata": {
    "slideshow": {
     "slide_type": "slide"
    }
   },
   "outputs": [
    {
     "data": {
      "image/png": "[encoded data removed]",
      "text/plain": [
       "<Figure size 1440x432 with 1 Axes>"
      ]
     },
     "metadata": {
      "needs_background": "light"
     },
     "output_type": "display_data"
    }
   ],
   "source": [
    "plt.figure(figsize=(20,6))\n",
    "plt.xlabel('Rate')\n",
    "plt.title('SELIC Curve')\n",
    "plt.plot(ltn_curve['maturity_date'], ltn_curve['ref_yield'], '-o')\n",
    "plt.show()"
   ]
  },
  {
   "cell_type": "markdown",
   "id": "advance-account",
   "metadata": {
    "slideshow": {
     "slide_type": "slide"
    }
   },
   "source": [
    "### Divergences with NTN-F contracts\n",
    "\n",
    "* NTN-F and LTN are Fixed Rate Bonds, in order that they rely on the same risk structure and must be priced with the same curve.\n",
    "* Instead, once NTN-F bonds are priced with LTN rates, it presents small divergences."
   ]
  },
  {
   "cell_type": "code",
   "execution_count": 76,
   "id": "sorted-jonathan",
   "metadata": {},
   "outputs": [
    {
     "data": {
      "text/html": [
       "<div>\n",
       "<style scoped>\n",
       "    .dataframe tbody tr th:only-of-type {\n",
       "        vertical-align: middle;\n",
       "    }\n",
       "\n",
       "    .dataframe tbody tr th {\n",
       "        vertical-align: top;\n",
       "    }\n",
       "\n",
       "    .dataframe thead th {\n",
       "        text-align: right;\n",
       "    }\n",
       "</style>\n",
       "<table border=\"1\" class=\"dataframe\">\n",
       "  <thead>\n",
       "    <tr style=\"text-align: right;\">\n",
       "      <th></th>\n",
       "      <th>symbol</th>\n",
       "      <th>refdate</th>\n",
       "      <th>cod_selic</th>\n",
       "      <th>issue_date</th>\n",
       "      <th>maturity_date</th>\n",
       "      <th>bid_yield</th>\n",
       "      <th>ask_yield</th>\n",
       "      <th>ref_yield</th>\n",
       "      <th>price</th>\n",
       "    </tr>\n",
       "  </thead>\n",
       "  <tbody>\n",
       "    <tr>\n",
       "      <th>35</th>\n",
       "      <td>NTN-F</td>\n",
       "      <td>2021-11-01</td>\n",
       "      <td>950199</td>\n",
       "      <td>2012-03-09</td>\n",
       "      <td>2023-01-01</td>\n",
       "      <td>12.3190</td>\n",
       "      <td>12.3025</td>\n",
       "      <td>12.3100</td>\n",
       "      <td>1009.002558</td>\n",
       "    </tr>\n",
       "    <tr>\n",
       "      <th>36</th>\n",
       "      <td>NTN-F</td>\n",
       "      <td>2021-11-01</td>\n",
       "      <td>950199</td>\n",
       "      <td>2014-01-10</td>\n",
       "      <td>2025-01-01</td>\n",
       "      <td>12.4460</td>\n",
       "      <td>12.4320</td>\n",
       "      <td>12.4399</td>\n",
       "      <td>973.304745</td>\n",
       "    </tr>\n",
       "    <tr>\n",
       "      <th>37</th>\n",
       "      <td>NTN-F</td>\n",
       "      <td>2021-11-01</td>\n",
       "      <td>950199</td>\n",
       "      <td>2016-01-15</td>\n",
       "      <td>2027-01-01</td>\n",
       "      <td>12.4480</td>\n",
       "      <td>12.4143</td>\n",
       "      <td>12.4273</td>\n",
       "      <td>946.436967</td>\n",
       "    </tr>\n",
       "    <tr>\n",
       "      <th>38</th>\n",
       "      <td>NTN-F</td>\n",
       "      <td>2021-11-01</td>\n",
       "      <td>950199</td>\n",
       "      <td>2018-01-05</td>\n",
       "      <td>2029-01-01</td>\n",
       "      <td>12.4735</td>\n",
       "      <td>12.4427</td>\n",
       "      <td>12.4538</td>\n",
       "      <td>924.491356</td>\n",
       "    </tr>\n",
       "    <tr>\n",
       "      <th>39</th>\n",
       "      <td>NTN-F</td>\n",
       "      <td>2021-11-01</td>\n",
       "      <td>950199</td>\n",
       "      <td>2020-01-10</td>\n",
       "      <td>2031-01-01</td>\n",
       "      <td>12.3185</td>\n",
       "      <td>12.2986</td>\n",
       "      <td>12.3103</td>\n",
       "      <td>914.086234</td>\n",
       "    </tr>\n",
       "  </tbody>\n",
       "</table>\n",
       "</div>"
      ],
      "text/plain": [
       "   symbol     refdate  cod_selic  issue_date maturity_date  bid_yield  \\\n",
       "35  NTN-F  2021-11-01     950199  2012-03-09    2023-01-01    12.3190   \n",
       "36  NTN-F  2021-11-01     950199  2014-01-10    2025-01-01    12.4460   \n",
       "37  NTN-F  2021-11-01     950199  2016-01-15    2027-01-01    12.4480   \n",
       "38  NTN-F  2021-11-01     950199  2018-01-05    2029-01-01    12.4735   \n",
       "39  NTN-F  2021-11-01     950199  2020-01-10    2031-01-01    12.3185   \n",
       "\n",
       "    ask_yield  ref_yield        price  \n",
       "35    12.3025    12.3100  1009.002558  \n",
       "36    12.4320    12.4399   973.304745  \n",
       "37    12.4143    12.4273   946.436967  \n",
       "38    12.4427    12.4538   924.491356  \n",
       "39    12.2986    12.3103   914.086234  "
      ]
     },
     "execution_count": 76,
     "metadata": {},
     "output_type": "execute_result"
    }
   ],
   "source": [
    "ntnfs = df[df['symbol'] == 'NTN-F'].copy()\n",
    "ntnfs"
   ]
  },
  {
   "cell_type": "code",
   "execution_count": 77,
   "id": "burning-firewall",
   "metadata": {
    "slideshow": {
     "slide_type": "slide"
    }
   },
   "outputs": [
    {
     "data": {
      "text/html": [
       "<div>\n",
       "<style scoped>\n",
       "    .dataframe tbody tr th:only-of-type {\n",
       "        vertical-align: middle;\n",
       "    }\n",
       "\n",
       "    .dataframe tbody tr th {\n",
       "        vertical-align: top;\n",
       "    }\n",
       "\n",
       "    .dataframe thead th {\n",
       "        text-align: right;\n",
       "    }\n",
       "</style>\n",
       "<table border=\"1\" class=\"dataframe\">\n",
       "  <thead>\n",
       "    <tr style=\"text-align: right;\">\n",
       "      <th></th>\n",
       "      <th>symbol</th>\n",
       "      <th>refdate</th>\n",
       "      <th>cod_selic</th>\n",
       "      <th>issue_date</th>\n",
       "      <th>maturity_date</th>\n",
       "      <th>bid_yield</th>\n",
       "      <th>ask_yield</th>\n",
       "      <th>ref_yield</th>\n",
       "      <th>price</th>\n",
       "      <th>fixing</th>\n",
       "      <th>DU</th>\n",
       "    </tr>\n",
       "  </thead>\n",
       "  <tbody>\n",
       "    <tr>\n",
       "      <th>0</th>\n",
       "      <td>LTN</td>\n",
       "      <td>2021-11-01</td>\n",
       "      <td>100000</td>\n",
       "      <td>2018-01-05</td>\n",
       "      <td>2022-01-01</td>\n",
       "      <td>8.3786</td>\n",
       "      <td>8.3490</td>\n",
       "      <td>8.3700</td>\n",
       "      <td>986.377808</td>\n",
       "      <td>2022-01-03</td>\n",
       "      <td>43</td>\n",
       "    </tr>\n",
       "    <tr>\n",
       "      <th>1</th>\n",
       "      <td>LTN</td>\n",
       "      <td>2021-11-01</td>\n",
       "      <td>100000</td>\n",
       "      <td>2020-01-03</td>\n",
       "      <td>2022-04-01</td>\n",
       "      <td>10.0547</td>\n",
       "      <td>10.0280</td>\n",
       "      <td>10.0447</td>\n",
       "      <td>960.902954</td>\n",
       "      <td>2022-04-01</td>\n",
       "      <td>105</td>\n",
       "    </tr>\n",
       "    <tr>\n",
       "      <th>2</th>\n",
       "      <td>LTN</td>\n",
       "      <td>2021-11-01</td>\n",
       "      <td>100000</td>\n",
       "      <td>2018-06-21</td>\n",
       "      <td>2022-07-01</td>\n",
       "      <td>11.3245</td>\n",
       "      <td>11.3034</td>\n",
       "      <td>11.3150</td>\n",
       "      <td>931.427257</td>\n",
       "      <td>2022-07-01</td>\n",
       "      <td>167</td>\n",
       "    </tr>\n",
       "    <tr>\n",
       "      <th>3</th>\n",
       "      <td>LTN</td>\n",
       "      <td>2021-11-01</td>\n",
       "      <td>100000</td>\n",
       "      <td>2020-07-03</td>\n",
       "      <td>2022-10-01</td>\n",
       "      <td>11.9885</td>\n",
       "      <td>11.9672</td>\n",
       "      <td>11.9797</td>\n",
       "      <td>901.074386</td>\n",
       "      <td>2022-10-03</td>\n",
       "      <td>232</td>\n",
       "    </tr>\n",
       "    <tr>\n",
       "      <th>4</th>\n",
       "      <td>LTN</td>\n",
       "      <td>2021-11-01</td>\n",
       "      <td>100000</td>\n",
       "      <td>2016-01-20</td>\n",
       "      <td>2023-01-01</td>\n",
       "      <td>12.3164</td>\n",
       "      <td>12.3025</td>\n",
       "      <td>12.3092</td>\n",
       "      <td>873.337504</td>\n",
       "      <td>2023-01-02</td>\n",
       "      <td>294</td>\n",
       "    </tr>\n",
       "    <tr>\n",
       "      <th>5</th>\n",
       "      <td>LTN</td>\n",
       "      <td>2021-11-01</td>\n",
       "      <td>100000</td>\n",
       "      <td>2019-04-05</td>\n",
       "      <td>2023-07-01</td>\n",
       "      <td>12.5288</td>\n",
       "      <td>12.5172</td>\n",
       "      <td>12.5230</td>\n",
       "      <td>822.251181</td>\n",
       "      <td>2023-07-03</td>\n",
       "      <td>418</td>\n",
       "    </tr>\n",
       "    <tr>\n",
       "      <th>6</th>\n",
       "      <td>LTN</td>\n",
       "      <td>2021-11-01</td>\n",
       "      <td>100000</td>\n",
       "      <td>2020-01-03</td>\n",
       "      <td>2024-01-01</td>\n",
       "      <td>12.5514</td>\n",
       "      <td>12.5400</td>\n",
       "      <td>12.5450</td>\n",
       "      <td>775.183013</td>\n",
       "      <td>2024-01-02</td>\n",
       "      <td>543</td>\n",
       "    </tr>\n",
       "    <tr>\n",
       "      <th>7</th>\n",
       "      <td>LTN</td>\n",
       "      <td>2021-11-01</td>\n",
       "      <td>100000</td>\n",
       "      <td>2021-01-08</td>\n",
       "      <td>2024-07-01</td>\n",
       "      <td>12.5575</td>\n",
       "      <td>12.5419</td>\n",
       "      <td>12.5511</td>\n",
       "      <td>731.284206</td>\n",
       "      <td>2024-07-01</td>\n",
       "      <td>667</td>\n",
       "    </tr>\n",
       "    <tr>\n",
       "      <th>8</th>\n",
       "      <td>LTN</td>\n",
       "      <td>2021-11-01</td>\n",
       "      <td>100000</td>\n",
       "      <td>2018-02-01</td>\n",
       "      <td>2025-01-01</td>\n",
       "      <td>12.5426</td>\n",
       "      <td>12.5223</td>\n",
       "      <td>12.5317</td>\n",
       "      <td>688.387569</td>\n",
       "      <td>2025-01-02</td>\n",
       "      <td>797</td>\n",
       "    </tr>\n",
       "  </tbody>\n",
       "</table>\n",
       "</div>"
      ],
      "text/plain": [
       "  symbol     refdate  cod_selic  issue_date maturity_date  bid_yield  \\\n",
       "0    LTN  2021-11-01     100000  2018-01-05    2022-01-01     8.3786   \n",
       "1    LTN  2021-11-01     100000  2020-01-03    2022-04-01    10.0547   \n",
       "2    LTN  2021-11-01     100000  2018-06-21    2022-07-01    11.3245   \n",
       "3    LTN  2021-11-01     100000  2020-07-03    2022-10-01    11.9885   \n",
       "4    LTN  2021-11-01     100000  2016-01-20    2023-01-01    12.3164   \n",
       "5    LTN  2021-11-01     100000  2019-04-05    2023-07-01    12.5288   \n",
       "6    LTN  2021-11-01     100000  2020-01-03    2024-01-01    12.5514   \n",
       "7    LTN  2021-11-01     100000  2021-01-08    2024-07-01    12.5575   \n",
       "8    LTN  2021-11-01     100000  2018-02-01    2025-01-01    12.5426   \n",
       "\n",
       "   ask_yield  ref_yield       price      fixing   DU  \n",
       "0     8.3490     8.3700  986.377808  2022-01-03   43  \n",
       "1    10.0280    10.0447  960.902954  2022-04-01  105  \n",
       "2    11.3034    11.3150  931.427257  2022-07-01  167  \n",
       "3    11.9672    11.9797  901.074386  2022-10-03  232  \n",
       "4    12.3025    12.3092  873.337504  2023-01-02  294  \n",
       "5    12.5172    12.5230  822.251181  2023-07-03  418  \n",
       "6    12.5400    12.5450  775.183013  2024-01-02  543  \n",
       "7    12.5419    12.5511  731.284206  2024-07-01  667  \n",
       "8    12.5223    12.5317  688.387569  2025-01-02  797  "
      ]
     },
     "execution_count": 77,
     "metadata": {},
     "output_type": "execute_result"
    }
   ],
   "source": [
    "ltn"
   ]
  },
  {
   "cell_type": "code",
   "execution_count": 78,
   "id": "hearing-married",
   "metadata": {
    "slideshow": {
     "slide_type": "skip"
    }
   },
   "outputs": [],
   "source": [
    "class FixedRateBond:\n",
    "    def __init__(self, **kwargs):\n",
    "        self.calendar = kwargs['calendar']\n",
    "        self.issue_date = kwargs['issue_date']\n",
    "        self.maturity_date = kwargs['maturity_date']\n",
    "        self._yield = kwargs['yield']\n",
    "        self.notional = kwargs['notional']\n",
    "        self.coupon_rate = kwargs['coupon_rate']\n",
    "        self.coupon_frequency = kwargs['coupon_frequency']\n",
    "        self.spot_price = kwargs['price']\n",
    "        self.cashflow = self._cashflow()\n",
    "        self.market_cashflow = self._market_cashflow()\n",
    "\n",
    "    def _cashflow(self):\n",
    "        if self.coupon_frequency:\n",
    "            freq = '-{}MS'.format(int(self.coupon_frequency))\n",
    "            dates = pd.date_range(start=self.maturity_date, end=self.issue_date, freq=freq, closed=None).sort_values()\n",
    "            dates = dates.map(lambda dt: dt.replace(day=self.maturity_date.day))\n",
    "            x = pd.DataFrame({\n",
    "                'dates': dates,\n",
    "                'coupons': self.notional * ((1 + self.coupon_rate)**(self.coupon_frequency/12) - 1),\n",
    "                'amortizations': 0\n",
    "            })\n",
    "        else:\n",
    "            dates = self.maturity_date\n",
    "            x = pd.DataFrame({\n",
    "                'dates': [dates],\n",
    "                'coupons': [self.notional * ((1 + self.coupon_rate)**(self.coupon_frequency/12) - 1)],\n",
    "                'amortizations': [0]\n",
    "            })\n",
    "        with pd.option_context('mode.chained_assignment', None):\n",
    "            x['amortizations'].iloc[-1] = self.notional\n",
    "        x['fixings'] = x['dates'].map(self.calendar.following)\n",
    "        return x\n",
    "\n",
    "    def _market_cashflow(self):\n",
    "        global REFDATE\n",
    "        cf = self.cashflow.copy()\n",
    "        mcf = cf[cf['dates'] >= REFDATE].copy()\n",
    "        mcf['DU'] = list(self.calendar.vec.bizdays(REFDATE, mcf['fixings']))\n",
    "        mcf['payments'] = mcf['coupons'] + mcf['amortizations']\n",
    "        return mcf\n",
    "\n",
    "    def theoretical_value(self, discount_curve=None):\n",
    "        mcf = self.market_cashflow\n",
    "        if discount_curve is None:\n",
    "            discount = 1 / ((1 + self._yield) ** (mcf['DU']/252))\n",
    "        else:\n",
    "            discount = discount_curve(mcf['DU'])\n",
    "        return np.sum(mcf['payments'] * discount)\n",
    "\n",
    "\n",
    "class NTNF(FixedRateBond):\n",
    "    pass\n",
    "\n",
    "\n",
    "class LTN(FixedRateBond):\n",
    "    pass\n",
    "\n",
    "\n",
    "class NTNB(FixedRateBond):\n",
    "    pass"
   ]
  },
  {
   "cell_type": "markdown",
   "id": "express-height",
   "metadata": {
    "slideshow": {
     "slide_type": "slide"
    }
   },
   "source": [
    "#### Let's use the discount curve obtained from LTN bonds to a price NTN-F bond"
   ]
  },
  {
   "cell_type": "code",
   "execution_count": 79,
   "id": "bigger-penny",
   "metadata": {},
   "outputs": [],
   "source": [
    "ntnf = ntnfs.iloc[0].to_dict()\n",
    "REFDATE = datetime.datetime.strptime(ntnf['refdate'], '%Y-%m-%d')\n",
    "ntnf['maturity_date'] = datetime.datetime.strptime(ntnf['maturity_date'], '%Y-%m-%d')\n",
    "ntnf['issue_date'] = datetime.datetime.strptime(ntnf['issue_date'], '%Y-%m-%d')\n",
    "ntnf['calendar'] = MARKET_CALENDAR\n",
    "ntnf['notional'] = 1000\n",
    "ntnf['yield'] = ntnf['ref_yield']/100\n",
    "ntnf['coupon_rate'] = 0.1\n",
    "ntnf['coupon_frequency'] = 6\n",
    "bond = NTNF(**ntnf)"
   ]
  },
  {
   "cell_type": "code",
   "execution_count": 80,
   "id": "devoted-instruction",
   "metadata": {},
   "outputs": [
    {
     "data": {
      "text/html": [
       "<div>\n",
       "<style scoped>\n",
       "    .dataframe tbody tr th:only-of-type {\n",
       "        vertical-align: middle;\n",
       "    }\n",
       "\n",
       "    .dataframe tbody tr th {\n",
       "        vertical-align: top;\n",
       "    }\n",
       "\n",
       "    .dataframe thead th {\n",
       "        text-align: right;\n",
       "    }\n",
       "</style>\n",
       "<table border=\"1\" class=\"dataframe\">\n",
       "  <thead>\n",
       "    <tr style=\"text-align: right;\">\n",
       "      <th></th>\n",
       "      <th>dates</th>\n",
       "      <th>coupons</th>\n",
       "      <th>amortizations</th>\n",
       "      <th>fixings</th>\n",
       "      <th>DU</th>\n",
       "      <th>payments</th>\n",
       "    </tr>\n",
       "  </thead>\n",
       "  <tbody>\n",
       "    <tr>\n",
       "      <th>19</th>\n",
       "      <td>2022-01-01</td>\n",
       "      <td>48.808848</td>\n",
       "      <td>0</td>\n",
       "      <td>2022-01-03</td>\n",
       "      <td>43</td>\n",
       "      <td>48.808848</td>\n",
       "    </tr>\n",
       "    <tr>\n",
       "      <th>20</th>\n",
       "      <td>2022-07-01</td>\n",
       "      <td>48.808848</td>\n",
       "      <td>0</td>\n",
       "      <td>2022-07-01</td>\n",
       "      <td>167</td>\n",
       "      <td>48.808848</td>\n",
       "    </tr>\n",
       "    <tr>\n",
       "      <th>21</th>\n",
       "      <td>2023-01-01</td>\n",
       "      <td>48.808848</td>\n",
       "      <td>1000</td>\n",
       "      <td>2023-01-02</td>\n",
       "      <td>294</td>\n",
       "      <td>1048.808848</td>\n",
       "    </tr>\n",
       "  </tbody>\n",
       "</table>\n",
       "</div>"
      ],
      "text/plain": [
       "        dates    coupons  amortizations     fixings   DU     payments\n",
       "19 2022-01-01  48.808848              0  2022-01-03   43    48.808848\n",
       "20 2022-07-01  48.808848              0  2022-07-01  167    48.808848\n",
       "21 2023-01-01  48.808848           1000  2023-01-02  294  1048.808848"
      ]
     },
     "execution_count": 80,
     "metadata": {},
     "output_type": "execute_result"
    }
   ],
   "source": [
    "bond.market_cashflow"
   ]
  },
  {
   "cell_type": "markdown",
   "id": "satellite-witness",
   "metadata": {},
   "source": [
    "* All these cashflows match with LTN maturities"
   ]
  },
  {
   "cell_type": "markdown",
   "id": "altered-education",
   "metadata": {
    "slideshow": {
     "slide_type": "slide"
    }
   },
   "source": [
    "#### Let's build a discount curve with LTN rates"
   ]
  },
  {
   "cell_type": "code",
   "execution_count": 81,
   "id": "through-conflict",
   "metadata": {},
   "outputs": [],
   "source": [
    "discount_curve_selic = my.ff_discount_curve(ltn_curve['DU'], ltn_curve['ref_yield']/100)"
   ]
  },
  {
   "cell_type": "code",
   "execution_count": 82,
   "id": "limited-stationery",
   "metadata": {},
   "outputs": [
    {
     "data": {
      "text/plain": [
       "1009.002558"
      ]
     },
     "execution_count": 82,
     "metadata": {},
     "output_type": "execute_result"
    }
   ],
   "source": [
    "bond.spot_price"
   ]
  },
  {
   "cell_type": "code",
   "execution_count": 83,
   "id": "confirmed-insured",
   "metadata": {},
   "outputs": [
    {
     "data": {
      "text/plain": [
       "1009.5699581254645"
      ]
     },
     "execution_count": 83,
     "metadata": {},
     "output_type": "execute_result"
    }
   ],
   "source": [
    "bond.theoretical_value(discount_curve=discount_curve_selic)"
   ]
  },
  {
   "cell_type": "markdown",
   "id": "cellular-christianity",
   "metadata": {
    "slideshow": {
     "slide_type": "slide"
    }
   },
   "source": [
    "### ANBIMA Curves\n",
    "\n",
    "* ANBIMA uses Nelson Siegel Svensson term structure model to build a curve which attends both LTN and NTN-F bonds\n",
    "\n",
    "* The spot rate is given by\n",
    "\n",
    "$$\n",
    "r(t) = \n",
    "\\beta_1 +\n",
    "\\beta_2 \\left( \\frac{1 - e^{-\\lambda_1 t}}{\\lambda_1 t} \\right) +\n",
    "\\beta_3 \\left( \\frac{1 - e^{-\\lambda_1 t}}{\\lambda_1 t} -e^{-\\lambda_1 t} \\right) +\n",
    "\\beta_4 \\left( \\frac{1 - e^{-\\lambda_2 t}}{\\lambda_2 t} -e^{-\\lambda_2 t} \\right)\n",
    "$$\n",
    "\n",
    "* The parameters are daily delivered in this link:\n",
    "    * <https://www.anbima.com.br/pt_br/informar/curvas-de-juros-fechamento.htm>\n"
   ]
  },
  {
   "cell_type": "markdown",
   "id": "single-samba",
   "metadata": {
    "slideshow": {
     "slide_type": "slide"
    }
   },
   "source": [
    "* We will load all LTN and NTN-F bonds and price these bonds with the term structure built with ANBIMA's parameters"
   ]
  },
  {
   "cell_type": "code",
   "execution_count": 84,
   "id": "comic-borough",
   "metadata": {},
   "outputs": [],
   "source": [
    "bonds = []\n",
    "\n",
    "for ntnf in ntnfs.to_dict('records'):\n",
    "    REFDATE = datetime.datetime.strptime(ntnf['refdate'], '%Y-%m-%d')\n",
    "    ntnf['maturity_date'] = datetime.datetime.strptime(ntnf['maturity_date'], '%Y-%m-%d')\n",
    "    ntnf['issue_date'] = datetime.datetime.strptime(ntnf['issue_date'], '%Y-%m-%d')\n",
    "    ntnf['calendar'] = MARKET_CALENDAR\n",
    "    ntnf['notional'] = 1000\n",
    "    ntnf['yield'] = ntnf['ref_yield']/100\n",
    "    ntnf['coupon_rate'] = 0.1\n",
    "    ntnf['coupon_frequency'] = 6\n",
    "    \n",
    "    bond = NTNF(**ntnf)\n",
    "    bonds.append(bond)"
   ]
  },
  {
   "cell_type": "code",
   "execution_count": 85,
   "id": "violent-belize",
   "metadata": {
    "slideshow": {
     "slide_type": "slide"
    }
   },
   "outputs": [],
   "source": [
    "for _ltn in ltn.to_dict('records'):\n",
    "    REFDATE = datetime.datetime.strptime(_ltn['refdate'], '%Y-%m-%d')\n",
    "    _ltn['maturity_date'] = datetime.datetime.strptime(_ltn['maturity_date'], '%Y-%m-%d')\n",
    "    _ltn['issue_date'] = datetime.datetime.strptime(_ltn['issue_date'], '%Y-%m-%d')\n",
    "    _ltn['calendar'] = MARKET_CALENDAR\n",
    "    _ltn['notional'] = 1000\n",
    "    _ltn['yield'] = _ltn['ref_yield']/100\n",
    "    _ltn['coupon_rate'] = 0\n",
    "    _ltn['coupon_frequency'] = 0\n",
    "    \n",
    "    bond = LTN(**_ltn)\n",
    "    bonds.append(bond)"
   ]
  },
  {
   "cell_type": "code",
   "execution_count": 86,
   "id": "synthetic-sandwich",
   "metadata": {
    "slideshow": {
     "slide_type": "slide"
    }
   },
   "outputs": [],
   "source": [
    "# ANBIMA's parameters\n",
    "par = (0.1229, -0.0606, 0.1004, -0.0175, 1.9174, 1.1923)\n",
    "\n",
    "pre_discount_curve = my.nss_discount_curve(par)"
   ]
  },
  {
   "cell_type": "code",
   "execution_count": 87,
   "id": "hawaiian-commitment",
   "metadata": {},
   "outputs": [
    {
     "name": "stdout",
     "output_type": "stream",
     "text": [
      " 0.0680\n",
      "-0.1007\n",
      " 0.0675\n",
      " 0.3222\n",
      "-0.2989\n",
      " 0.0125\n",
      "-0.0589\n",
      " 0.0031\n",
      " 0.0146\n",
      " 0.0121\n",
      "-0.0425\n",
      "-0.0702\n",
      " 0.0021\n",
      " 0.0656\n"
     ]
    }
   ],
   "source": [
    "errors = [100 * (b.theoretical_value(discount_curve=pre_discount_curve) - b.spot_price) / b.spot_price for b in bonds]\n",
    "for e in errors:\n",
    "    print(f'{e: 1.4f}')"
   ]
  },
  {
   "cell_type": "markdown",
   "id": "academic-addition",
   "metadata": {
    "slideshow": {
     "slide_type": "slide"
    }
   },
   "source": [
    "* We can see this curve"
   ]
  },
  {
   "cell_type": "code",
   "execution_count": 88,
   "id": "communist-school",
   "metadata": {},
   "outputs": [
    {
     "data": {
      "image/png": "[encoded data removed]",
      "text/plain": [
       "<Figure size 1440x432 with 1 Axes>"
      ]
     },
     "metadata": {
      "needs_background": "light"
     },
     "output_type": "display_data"
    }
   ],
   "source": [
    "pre_curve = my.nss_curve(par)\n",
    "\n",
    "t = np.arange(252, 2520)\n",
    "r = pre_curve(t)\n",
    "\n",
    "plt.figure(figsize=(20, 6))\n",
    "plt.plot(t, r)\n",
    "plt.show()"
   ]
  },
  {
   "cell_type": "markdown",
   "id": "vocal-fabric",
   "metadata": {
    "slideshow": {
     "slide_type": "slide"
    }
   },
   "source": [
    "### Real Interest Rate from NTN-B bonds\n",
    "\n",
    "* Once NTN-B is indexed to inflation, the interest rate paid additionally is the **real interest rate**."
   ]
  },
  {
   "cell_type": "code",
   "execution_count": 89,
   "id": "quality-module",
   "metadata": {
    "slideshow": {
     "slide_type": "-"
    }
   },
   "outputs": [],
   "source": [
    "ntnbs = df[df['symbol'] == 'NTN-B'].copy()\n",
    "\n",
    "bonds = []\n",
    "\n",
    "for _bond in ntnbs.to_dict('records'):\n",
    "    REFDATE = datetime.datetime.strptime(_bond['refdate'], '%Y-%m-%d')\n",
    "    _bond['maturity_date'] = datetime.datetime.strptime(_bond['maturity_date'], '%Y-%m-%d')\n",
    "    _bond['issue_date'] = datetime.datetime.strptime(_bond['issue_date'], '%Y-%m-%d')\n",
    "    _bond['calendar'] = MARKET_CALENDAR\n",
    "    _bond['notional'] = 3702.299176\n",
    "    _bond['yield'] = _bond['ref_yield']/100\n",
    "    _bond['coupon_rate'] = 0.06\n",
    "    _bond['coupon_frequency'] = 6\n",
    "    \n",
    "    bond = NTNB(**_bond)\n",
    "    bonds.append(bond)"
   ]
  },
  {
   "cell_type": "code",
   "execution_count": 90,
   "id": "solar-egyptian",
   "metadata": {
    "slideshow": {
     "slide_type": "slide"
    }
   },
   "outputs": [],
   "source": [
    "# ANBIMA's parameters for real interest rates\n",
    "par = (0.0557, -0.0766, 0.1308, -0.0326, 2.0284, 1.0558)\n",
    "\n",
    "ipca_discount_curve = my.nss_discount_curve(par)"
   ]
  },
  {
   "cell_type": "code",
   "execution_count": 91,
   "id": "subsequent-termination",
   "metadata": {},
   "outputs": [
    {
     "name": "stdout",
     "output_type": "stream",
     "text": [
      "-0.4752\n",
      "-0.5792\n",
      "-0.6283\n",
      "-0.4793\n",
      "-0.3473\n",
      "-0.4061\n",
      "-0.4015\n",
      "-0.4336\n",
      "-0.4807\n",
      "-0.5885\n",
      "-0.4994\n",
      "-0.4511\n",
      "-0.3223\n"
     ]
    }
   ],
   "source": [
    "errors = [100 * (b.theoretical_value(discount_curve=ipca_discount_curve) - b.spot_price) / b.spot_price for b in bonds]\n",
    "for e in errors:\n",
    "    print(f'{e: 1.4f}')"
   ]
  },
  {
   "cell_type": "code",
   "execution_count": 92,
   "id": "distant-customer",
   "metadata": {
    "slideshow": {
     "slide_type": "slide"
    }
   },
   "outputs": [
    {
     "data": {
      "image/png": "[encoded data removed]",
      "text/plain": [
       "<Figure size 1440x432 with 1 Axes>"
      ]
     },
     "metadata": {
      "needs_background": "light"
     },
     "output_type": "display_data"
    }
   ],
   "source": [
    "ipca_curve = my.nss_curve(par)\n",
    "\n",
    "t = np.arange(126, 2520)\n",
    "r = ipca_curve(t)\n",
    "\n",
    "plt.figure(figsize=(20, 6))\n",
    "plt.plot(t, r)\n",
    "plt.show()"
   ]
  },
  {
   "cell_type": "markdown",
   "id": "promising-wyoming",
   "metadata": {
    "slideshow": {
     "slide_type": "slide"
    }
   },
   "source": [
    "### Expected Inflation\n",
    "\n",
    "* Having real and nominal rates, the future inflation can be estimated according to the following relation.\n",
    "\n",
    "$$\n",
    "(1 + c)(1 + i) = (1 + r)\n",
    "$$\n",
    "\n",
    "where\n",
    "\n",
    "* $r$ is the nominal interest rate obtained from LTN and NTN-F bonds\n",
    "* $c$ is the real interest rate obtained from NTN-B contracts\n",
    "* $i$ is the resulting inflation"
   ]
  },
  {
   "cell_type": "code",
   "execution_count": 93,
   "id": "associate-cream",
   "metadata": {
    "slideshow": {
     "slide_type": "slide"
    }
   },
   "outputs": [
    {
     "data": {
      "image/png": "[encoded data removed]",
      "text/plain": [
       "<Figure size 1440x432 with 1 Axes>"
      ]
     },
     "metadata": {
      "needs_background": "light"
     },
     "output_type": "display_data"
    }
   ],
   "source": [
    "t = np.arange(126, 2520)\n",
    "j = ipca_curve(t)\n",
    "r = pre_curve(t)\n",
    "\n",
    "f_r = (1 + r) ** (t/252)\n",
    "f_j = (1 + j) ** (t/252)\n",
    "i = (f_r/f_j) ** (252/t) - 1\n",
    "\n",
    "plt.figure(figsize=(20, 6))\n",
    "plt.plot(t, i)\n",
    "plt.show()"
   ]
  }
 ],
 "metadata": {
  "celltoolbar": "Slideshow",
  "kernelspec": {
   "display_name": "Python 3",
   "language": "python",
   "name": "python3"
  },
  "language_info": {
   "codemirror_mode": {
    "name": "ipython",
    "version": 3
   },
   "file_extension": ".py",
   "mimetype": "text/x-python",
   "name": "python",
   "nbconvert_exporter": "python",
   "pygments_lexer": "ipython3",
   "version": "3.7.6"
  }
 },
 "nbformat": 4,
 "nbformat_minor": 5
}
